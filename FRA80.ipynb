{
 "cells": [
  {
   "cell_type": "code",
   "execution_count": 1,
   "id": "a0530c98",
   "metadata": {},
   "outputs": [],
   "source": [
    "import re\n",
    "import pandas as pd\n",
    "import os"
   ]
  },
  {
   "cell_type": "code",
   "execution_count": 2,
   "id": "4a14f39b",
   "metadata": {},
   "outputs": [],
   "source": [
    "path = 'E:/Corpus/FRA80'"
   ]
  },
  {
   "cell_type": "code",
   "execution_count": 12,
   "id": "183f3196",
   "metadata": {},
   "outputs": [],
   "source": [
    "def extract_txt_files(folder_path):\n",
    "    txt_files = []\n",
    "    names = []\n",
    "    for file in os.listdir(folder_path):\n",
    "        file_path = os.path.join(folder_path, file)\n",
    "        if file.endswith('.txt') and os.path.isfile(file_path):\n",
    "            txt_files.append(file_path)\n",
    "            pat = r'E:/Corpus/FRA80\\\\(.*)\\.utf8\\.txt'\n",
    "            mat = re.search(pat,file_path)\n",
    "            try :\n",
    "                names.append(mat.group(1))\n",
    "            except:\n",
    "                names.append(None)\n",
    "    return txt_files, names\n"
   ]
  },
  {
   "cell_type": "code",
   "execution_count": 13,
   "id": "3c6ea04d",
   "metadata": {},
   "outputs": [
    {
     "name": "stdout",
     "output_type": "stream",
     "text": [
      "E:/Corpus/FRA80\\F20.utf8.txt F20\n",
      "E:/Corpus/FRA80\\Fa13.utf8.txt Fa13\n",
      "E:/Corpus/FRA80\\Fa6.utf8.txt Fa6\n",
      "E:/Corpus/FRA80\\Fa17.utf8.txt Fa17\n",
      "E:/Corpus/FRA80\\Fa25.utf8.txt Fa25\n",
      "E:/Corpus/FRA80\\FJ12.utf8.txt FJ12\n",
      "E:/Corpus/FRA80\\FJ23.utf8.txt FJ23\n",
      "E:/Corpus/FRA80\\FR5.utf8.txt FR5\n",
      "E:/Corpus/FRA80\\FR20.utf8.txt FR20\n",
      "E:/Corpus/FRA80\\HA16.utf8.txt HA16\n",
      "E:/Corpus/FRA80\\HA22.utf8.txt HA22\n",
      "E:/Corpus/FRA80\\HA26.utf8.txt HA26\n",
      "E:/Corpus/FRA80\\HJ14.utf8.txt HJ14\n",
      "E:/Corpus/FRA80\\HJ19.utf8.txt HJ19\n",
      "E:/Corpus/FRA80\\HR11.utf8.txt HR11\n",
      "E:/Corpus/FRA80\\HR24.utf8.txt HR24\n"
     ]
    }
   ],
   "source": [
    "txt_files, names = extract_txt_files(path)\n",
    "\n"
   ]
  },
  {
   "cell_type": "code",
   "execution_count": 36,
   "id": "66ecf622",
   "metadata": {},
   "outputs": [],
   "source": [
    "def read_txt_file(txt, name):\n",
    "     print(txt)\n",
    "     with open(txt, 'r', encoding ='utf8') as file:\n",
    "        dicti = {}\n",
    "        line_counter = 0\n",
    "        temps_actuel = 'NA'\n",
    "        for line in file:\n",
    "            pat = r'\\(\\((.*)\\)\\)'\n",
    "            match = re.search(pat, line)\n",
    "            if match : \n",
    "                temps_actuel = match.group(1).replace('\\xa0',' ')\n",
    "            pat2 = r'(.*)\\t(.*)'\n",
    "            mat2 = re.search(pat2, line)\n",
    "            if mat2:\n",
    "                loc = mat2.group(1)\n",
    "                text = mat2.group(2)\n",
    "                dicti[line_counter] = {}\n",
    "                dicti[line_counter]['locuteur'] = loc\n",
    "                dicti[line_counter]['start'] = temps_actuel\n",
    "                dicti[line_counter]['text'] = text\n",
    "            else:\n",
    "                continue\n",
    "\n",
    "            line_counter += 1\n",
    "            df = dict_to_dataframe(dicti, name)\n",
    "        return df"
   ]
  },
  {
   "cell_type": "code",
   "execution_count": 37,
   "id": "b9c4537d",
   "metadata": {},
   "outputs": [],
   "source": [
    "def dict_to_dataframe(data_dict, name):\n",
    "    df = pd.DataFrame.from_dict(data_dict, orient='index')\n",
    "    df = df[['locuteur', 'start', 'text']]\n",
    "    df['corpus'] = 'FR80'\n",
    "    df['enregistrement'] = name\n",
    "    return df\n"
   ]
  },
  {
   "cell_type": "code",
   "execution_count": 38,
   "id": "85d2a524",
   "metadata": {},
   "outputs": [
    {
     "name": "stdout",
     "output_type": "stream",
     "text": [
      "E:/Corpus/FRA80\\F20.utf8.txt\n",
      "E:/Corpus/FRA80\\Fa13.utf8.txt\n",
      "E:/Corpus/FRA80\\Fa6.utf8.txt\n",
      "E:/Corpus/FRA80\\Fa17.utf8.txt\n",
      "E:/Corpus/FRA80\\Fa25.utf8.txt\n",
      "E:/Corpus/FRA80\\FJ12.utf8.txt\n",
      "E:/Corpus/FRA80\\FJ23.utf8.txt\n",
      "E:/Corpus/FRA80\\FR5.utf8.txt\n",
      "E:/Corpus/FRA80\\FR20.utf8.txt\n",
      "E:/Corpus/FRA80\\HA16.utf8.txt\n",
      "E:/Corpus/FRA80\\HA22.utf8.txt\n",
      "E:/Corpus/FRA80\\HA26.utf8.txt\n",
      "E:/Corpus/FRA80\\HJ14.utf8.txt\n",
      "E:/Corpus/FRA80\\HJ19.utf8.txt\n",
      "E:/Corpus/FRA80\\HR11.utf8.txt\n",
      "E:/Corpus/FRA80\\HR24.utf8.txt\n"
     ]
    }
   ],
   "source": [
    "liste_df = [read_txt_file(txt, name) for txt, name in list(zip(txt_files, names))]"
   ]
  },
  {
   "cell_type": "code",
   "execution_count": 42,
   "id": "e2fd6296",
   "metadata": {},
   "outputs": [],
   "source": [
    "all_ = pd.concat(liste_df)"
   ]
  },
  {
   "cell_type": "code",
   "execution_count": 44,
   "id": "12389d4b",
   "metadata": {},
   "outputs": [
    {
     "data": {
      "text/html": [
       "<div>\n",
       "<style scoped>\n",
       "    .dataframe tbody tr th:only-of-type {\n",
       "        vertical-align: middle;\n",
       "    }\n",
       "\n",
       "    .dataframe tbody tr th {\n",
       "        vertical-align: top;\n",
       "    }\n",
       "\n",
       "    .dataframe thead th {\n",
       "        text-align: right;\n",
       "    }\n",
       "</style>\n",
       "<table border=\"1\" class=\"dataframe\">\n",
       "  <thead>\n",
       "    <tr style=\"text-align: right;\">\n",
       "      <th></th>\n",
       "      <th>locuteur</th>\n",
       "      <th>start</th>\n",
       "      <th>text</th>\n",
       "      <th>corpus</th>\n",
       "      <th>enregistrement</th>\n",
       "    </tr>\n",
       "  </thead>\n",
       "  <tbody>\n",
       "    <tr>\n",
       "      <th>0</th>\n",
       "      <td>EF</td>\n",
       "      <td>00 :00 :00</td>\n",
       "      <td>en premier je je tiens à vous rappeler que don...</td>\n",
       "      <td>FR80</td>\n",
       "      <td>F20</td>\n",
       "    </tr>\n",
       "    <tr>\n",
       "      <th>1</th>\n",
       "      <td>FR20</td>\n",
       "      <td>00 :00 :00</td>\n",
       "      <td>m (?)</td>\n",
       "      <td>FR80</td>\n",
       "      <td>F20</td>\n",
       "    </tr>\n",
       "    <tr>\n",
       "      <th>2</th>\n",
       "      <td>EF</td>\n",
       "      <td>00 :00 :00</td>\n",
       "      <td>bien entendu je tiens à vous dire euh et à vou...</td>\n",
       "      <td>FR80</td>\n",
       "      <td>F20</td>\n",
       "    </tr>\n",
       "    <tr>\n",
       "      <th>3</th>\n",
       "      <td>FR20</td>\n",
       "      <td>00 :00 :00</td>\n",
       "      <td>(clic?) pas. l\"école l'école quand je faisais ...</td>\n",
       "      <td>FR80</td>\n",
       "      <td>F20</td>\n",
       "    </tr>\n",
       "    <tr>\n",
       "      <th>4</th>\n",
       "      <td>EF</td>\n",
       "      <td>00 :00 :00</td>\n",
       "      <td>oui. mm. alors peut-être vous pouvez peut-être...</td>\n",
       "      <td>FR80</td>\n",
       "      <td>F20</td>\n",
       "    </tr>\n",
       "    <tr>\n",
       "      <th>...</th>\n",
       "      <td>...</td>\n",
       "      <td>...</td>\n",
       "      <td>...</td>\n",
       "      <td>...</td>\n",
       "      <td>...</td>\n",
       "    </tr>\n",
       "    <tr>\n",
       "      <th>1976</th>\n",
       "      <td>HR24</td>\n",
       "      <td>00 :40 :02</td>\n",
       "      <td>puis alors ils étaient pas assurés :</td>\n",
       "      <td>FR80</td>\n",
       "      <td>HR24</td>\n",
       "    </tr>\n",
       "    <tr>\n",
       "      <th>1977</th>\n",
       "      <td>EF</td>\n",
       "      <td>00 :40 :02</td>\n",
       "      <td>ah là là!</td>\n",
       "      <td>FR80</td>\n",
       "      <td>HR24</td>\n",
       "    </tr>\n",
       "    <tr>\n",
       "      <th>1978</th>\n",
       "      <td>HR24</td>\n",
       "      <td>00 :40 :02</td>\n",
       "      <td>pas assurés comme il faut quoi</td>\n",
       "      <td>FR80</td>\n",
       "      <td>HR24</td>\n",
       "    </tr>\n",
       "    <tr>\n",
       "      <th>1979</th>\n",
       "      <td>EF</td>\n",
       "      <td>00 :40 :02</td>\n",
       "      <td>comme il faut oui</td>\n",
       "      <td>FR80</td>\n",
       "      <td>HR24</td>\n",
       "    </tr>\n",
       "    <tr>\n",
       "      <th>1980</th>\n",
       "      <td>F1</td>\n",
       "      <td>00 :40 :02</td>\n",
       "      <td>xxx André?</td>\n",
       "      <td>FR80</td>\n",
       "      <td>HR24</td>\n",
       "    </tr>\n",
       "  </tbody>\n",
       "</table>\n",
       "<p>16975 rows × 5 columns</p>\n",
       "</div>"
      ],
      "text/plain": [
       "     locuteur       start                                               text  \\\n",
       "0          EF  00 :00 :00  en premier je je tiens à vous rappeler que don...   \n",
       "1        FR20  00 :00 :00                                              m (?)   \n",
       "2          EF  00 :00 :00  bien entendu je tiens à vous dire euh et à vou...   \n",
       "3        FR20  00 :00 :00  (clic?) pas. l\"école l'école quand je faisais ...   \n",
       "4          EF  00 :00 :00  oui. mm. alors peut-être vous pouvez peut-être...   \n",
       "...       ...         ...                                                ...   \n",
       "1976     HR24  00 :40 :02               puis alors ils étaient pas assurés :   \n",
       "1977       EF  00 :40 :02                                          ah là là!   \n",
       "1978     HR24  00 :40 :02                     pas assurés comme il faut quoi   \n",
       "1979       EF  00 :40 :02                                  comme il faut oui   \n",
       "1980       F1  00 :40 :02                                         xxx André?   \n",
       "\n",
       "     corpus enregistrement  \n",
       "0      FR80            F20  \n",
       "1      FR80            F20  \n",
       "2      FR80            F20  \n",
       "3      FR80            F20  \n",
       "4      FR80            F20  \n",
       "...     ...            ...  \n",
       "1976   FR80           HR24  \n",
       "1977   FR80           HR24  \n",
       "1978   FR80           HR24  \n",
       "1979   FR80           HR24  \n",
       "1980   FR80           HR24  \n",
       "\n",
       "[16975 rows x 5 columns]"
      ]
     },
     "execution_count": 44,
     "metadata": {},
     "output_type": "execute_result"
    }
   ],
   "source": [
    "all_"
   ]
  },
  {
   "cell_type": "code",
   "execution_count": 45,
   "id": "33fdf627",
   "metadata": {},
   "outputs": [],
   "source": [
    "all_.to_csv('E:/Corpus/FRA80/total_fra801905.csv')"
   ]
  },
  {
   "cell_type": "code",
   "execution_count": null,
   "id": "5cd44f73",
   "metadata": {},
   "outputs": [],
   "source": []
  }
 ],
 "metadata": {
  "kernelspec": {
   "display_name": "Python 3 (ipykernel)",
   "language": "python",
   "name": "python3"
  },
  "language_info": {
   "codemirror_mode": {
    "name": "ipython",
    "version": 3
   },
   "file_extension": ".py",
   "mimetype": "text/x-python",
   "name": "python",
   "nbconvert_exporter": "python",
   "pygments_lexer": "ipython3",
   "version": "3.9.13"
  }
 },
 "nbformat": 4,
 "nbformat_minor": 5
}

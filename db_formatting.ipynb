{
 "cells": [
  {
   "cell_type": "code",
   "execution_count": null,
   "id": "6821584b",
   "metadata": {},
   "outputs": [],
   "source": [
    "import pandas as pd\n",
    "import re"
   ]
  },
  {
   "cell_type": "code",
   "execution_count": null,
   "id": "2bc2b5b4",
   "metadata": {},
   "outputs": [],
   "source": [
    "tcof = pd.read_csv(r\"F:\\Corpus\\finaux\\tcof_NEW.tsv\", sep='\\t')"
   ]
  },
  {
   "cell_type": "code",
   "execution_count": null,
   "id": "9635962e",
   "metadata": {},
   "outputs": [],
   "source": [
    "tcof"
   ]
  },
  {
   "cell_type": "code",
   "execution_count": null,
   "id": "c5e98fcc",
   "metadata": {},
   "outputs": [],
   "source": [
    "tcof['index_corpus']=[x.lower() for x in tcof['corpus'].tolist()]"
   ]
  },
  {
   "cell_type": "code",
   "execution_count": null,
   "id": "b6d7f0f9",
   "metadata": {},
   "outputs": [],
   "source": [
    "tcof['index_enregistrement']= [x.lower() +'_'+ y.lower() for x,y in list(zip(tcof['corpus'].tolist(), tcof['sous_corpus'].tolist()))]"
   ]
  },
  {
   "cell_type": "code",
   "execution_count": null,
   "id": "6e91bbe0",
   "metadata": {},
   "outputs": [],
   "source": [
    "tcof['index_locuteur']=[x.lower() +'_'+y.lower() for x,y in list(zip(tcof['index_enregistrement'].tolist(), tcof['speaker'].tolist())) ]"
   ]
  },
  {
   "cell_type": "code",
   "execution_count": null,
   "id": "ccf34821",
   "metadata": {},
   "outputs": [],
   "source": [
    "tcof['nb_index_enregistrement'] = tcof['index_enregistrement'].ne(tcof['index_enregistrement'].shift()).cumsum()"
   ]
  },
  {
   "cell_type": "code",
   "execution_count": null,
   "id": "98adae38",
   "metadata": {},
   "outputs": [],
   "source": [
    "tcof['numero_tour'] = tcof.groupby('nb_index_enregistrement').cumcount() + 1"
   ]
  },
  {
   "cell_type": "code",
   "execution_count": null,
   "id": "b2184e50",
   "metadata": {},
   "outputs": [],
   "source": [
    "tcof['index_tour'] = [x.lower() +'_'+ str(y) for x,y in list(zip(tcof['index_enregistrement'].tolist(), tcof['numero_tour'].tolist()))]"
   ]
  },
  {
   "cell_type": "code",
   "execution_count": null,
   "id": "b4922cfb",
   "metadata": {},
   "outputs": [],
   "source": [
    "tcof"
   ]
  },
  {
   "cell_type": "code",
   "execution_count": null,
   "id": "448a2e8d",
   "metadata": {},
   "outputs": [],
   "source": [
    "import nltk\n",
    "from nltk.tokenize import word_tokenize"
   ]
  },
  {
   "cell_type": "code",
   "execution_count": null,
   "id": "6c94cdc0",
   "metadata": {},
   "outputs": [],
   "source": [
    "content_french = [\"Les astronomes amateurs jouent également un rôle important en recherche; les plus sérieux participant couramment au suivi d'étoiles variables, à la découverte de nouveaux astéroïdes et de nouvelles comètes, etc.\", 'Séquence vidéo.', \"John Richard Bond explique le rôle de l'astronomie.\"]\n",
    "for i in content_french:\n",
    "        print(i)\n",
    "        print(list(enumerate((word_tokenize(i, language='french')))))"
   ]
  },
  {
   "cell_type": "code",
   "execution_count": null,
   "id": "7d713581",
   "metadata": {},
   "outputs": [],
   "source": [
    "def tokenize(x):\n",
    "    if isinstance(x, str):\n",
    "        return list(enumerate(word_tokenize(x, language='french')))\n",
    "    else:\n",
    "        return []"
   ]
  },
  {
   "cell_type": "code",
   "execution_count": null,
   "id": "82971a41",
   "metadata": {},
   "outputs": [],
   "source": [
    "tcof['tokens']=tcof['text_clean'].apply(lambda x : tokenize(x))"
   ]
  },
  {
   "cell_type": "code",
   "execution_count": null,
   "id": "8ecba715",
   "metadata": {},
   "outputs": [],
   "source": [
    "tcof"
   ]
  },
  {
   "cell_type": "code",
   "execution_count": null,
   "id": "e608632c",
   "metadata": {},
   "outputs": [],
   "source": [
    "def create_token_index(tokens, index_tour):\n",
    "    index_tokens = [str(index_tour)+'_'+str(ind) for ind, tok in tokens]\n",
    "    if len(tokens)==len(index_tokens):\n",
    "        return index_tokens\n"
   ]
  },
  {
   "cell_type": "code",
   "execution_count": null,
   "id": "abef3914",
   "metadata": {},
   "outputs": [],
   "source": [
    "tcof['tokens']=tcof['text_clean'].apply(lambda x : tokenize(x))"
   ]
  },
  {
   "cell_type": "code",
   "execution_count": null,
   "id": "27bb8cdd",
   "metadata": {},
   "outputs": [],
   "source": [
    "tcof['index_token'] = tcof.apply(lambda x: create_token_index(x['tokens'], x['index_tour']), axis=1)"
   ]
  },
  {
   "cell_type": "code",
   "execution_count": null,
   "id": "98d0ea5e",
   "metadata": {},
   "outputs": [],
   "source": [
    "tcof['type']='oral'"
   ]
  },
  {
   "cell_type": "code",
   "execution_count": null,
   "id": "c1b5ceaf",
   "metadata": {},
   "outputs": [],
   "source": [
    "tcof['date']=''"
   ]
  },
  {
   "cell_type": "code",
   "execution_count": null,
   "id": "f112c9b5",
   "metadata": {},
   "outputs": [],
   "source": [
    "tcof['path_xml']=tcof['path_trs'].apply(lambda x : x.replace('.trs','.xml'))"
   ]
  },
  {
   "cell_type": "code",
   "execution_count": null,
   "id": "4c59b1f4",
   "metadata": {},
   "outputs": [],
   "source": [
    "tcof"
   ]
  },
  {
   "cell_type": "code",
   "execution_count": null,
   "id": "ddf21a05",
   "metadata": {},
   "outputs": [],
   "source": []
  },
  {
   "cell_type": "code",
   "execution_count": null,
   "id": "611fceb5",
   "metadata": {},
   "outputs": [],
   "source": []
  },
  {
   "cell_type": "code",
   "execution_count": null,
   "id": "9d75471b",
   "metadata": {},
   "outputs": [],
   "source": []
  },
  {
   "cell_type": "code",
   "execution_count": null,
   "id": "22c14438",
   "metadata": {},
   "outputs": [],
   "source": []
  },
  {
   "cell_type": "code",
   "execution_count": null,
   "id": "0cd29d6b",
   "metadata": {},
   "outputs": [],
   "source": []
  },
  {
   "cell_type": "code",
   "execution_count": null,
   "id": "e5e9243c",
   "metadata": {},
   "outputs": [],
   "source": []
  },
  {
   "cell_type": "code",
   "execution_count": null,
   "id": "95682c94",
   "metadata": {},
   "outputs": [],
   "source": []
  },
  {
   "cell_type": "code",
   "execution_count": null,
   "id": "9052e3ba",
   "metadata": {},
   "outputs": [],
   "source": []
  },
  {
   "cell_type": "code",
   "execution_count": null,
   "id": "f285d14e",
   "metadata": {},
   "outputs": [],
   "source": []
  },
  {
   "cell_type": "markdown",
   "id": "d4495165",
   "metadata": {},
   "source": [
    "# prepare tables to inject into database"
   ]
  },
  {
   "cell_type": "code",
   "execution_count": null,
   "id": "4fd5d1e1",
   "metadata": {},
   "outputs": [],
   "source": [
    "tcof_corpus = tcof[['index_corpus','corpus','date','type']]\n",
    "\n",
    "tcof_corpus = tcof_corpus.groupby('index_corpus').agg({\n",
    "    'corpus': 'first',\n",
    "     'date': 'first',\n",
    "     'type': 'first'\n",
    "    }).reset_index()\n"
   ]
  },
  {
   "cell_type": "code",
   "execution_count": null,
   "id": "fc5d1113",
   "metadata": {},
   "outputs": [],
   "source": [
    "tcof_corpus"
   ]
  },
  {
   "cell_type": "code",
   "execution_count": null,
   "id": "1b26c755",
   "metadata": {},
   "outputs": [],
   "source": [
    "tcof_enregistrement = tcof[['index_enregistrement','sous_corpus','description','date_enregistrement','responsable','path_trs','path_wav','index_corpus']]#'path_xml',\n",
    "\n",
    "tcof_enregistrement = tcof_enregistrement.groupby('index_enregistrement').agg({\n",
    "    'sous_corpus': 'first',\n",
    "    'description': 'first',\n",
    "    'date_enregistrement': 'first',\n",
    "    'responsable' : 'first',\n",
    "    'path_trs' : 'first',\n",
    "    'path_wav':'first',\n",
    "    'index_corpus': 'first'\n",
    "}).reset_index()"
   ]
  },
  {
   "cell_type": "code",
   "execution_count": null,
   "id": "acc24eed",
   "metadata": {},
   "outputs": [],
   "source": [
    "tcof_enregistrement"
   ]
  },
  {
   "cell_type": "code",
   "execution_count": null,
   "id": "f9c73f92",
   "metadata": {},
   "outputs": [],
   "source": [
    "tcof.columns"
   ]
  },
  {
   "cell_type": "code",
   "execution_count": null,
   "id": "5b8e4a53",
   "metadata": {},
   "outputs": [],
   "source": [
    "tcof_tour = tcof[['index_tour', 'text_clean','startTime','endTime','index_locuteur', 'index_enregistrement']]\n",
    "tcof_tour = tcof_tour.groupby('index_tour').agg({\n",
    "    'text_clean': 'first',\n",
    "    'startTime': 'first',\n",
    "    'endTime' : 'first',\n",
    "    'index_locuteur' : 'first',\n",
    "    'index_enregistrement':'first'\n",
    "}).reset_index()"
   ]
  },
  {
   "cell_type": "code",
   "execution_count": null,
   "id": "9eca83e0",
   "metadata": {
    "scrolled": true
   },
   "outputs": [],
   "source": [
    "tcof_tour"
   ]
  },
  {
   "cell_type": "code",
   "execution_count": null,
   "id": "1759200e",
   "metadata": {},
   "outputs": [],
   "source": [
    "tcof_locuteurs = tcof[['index_locuteur', 'speaker_name', 'age_speaker', 'etude_speaker', 'profession_speaker','index_enregistrement']]"
   ]
  },
  {
   "cell_type": "code",
   "execution_count": null,
   "id": "bc55235b",
   "metadata": {},
   "outputs": [],
   "source": [
    "tcof_locuteurs = tcof_locuteurs.groupby('index_locuteur').agg({\n",
    "    'speaker_name': 'first',\n",
    "    'age_speaker': 'first',\n",
    "    'etude_speaker': 'first',\n",
    "    'profession_speaker': 'first',\n",
    "    'index_enregistrement': 'first'\n",
    "}).reset_index()"
   ]
  },
  {
   "cell_type": "code",
   "execution_count": null,
   "id": "b038fa4f",
   "metadata": {},
   "outputs": [],
   "source": [
    "tcof.columns"
   ]
  },
  {
   "cell_type": "code",
   "execution_count": null,
   "id": "02dc88a3",
   "metadata": {},
   "outputs": [],
   "source": [
    "tcof_locuteurs"
   ]
  },
  {
   "cell_type": "code",
   "execution_count": null,
   "id": "ea0cd185",
   "metadata": {},
   "outputs": [],
   "source": [
    "tcof.head()"
   ]
  },
  {
   "cell_type": "code",
   "execution_count": null,
   "id": "5468d31b",
   "metadata": {},
   "outputs": [],
   "source": [
    "tcof_tokens = tcof[['index_token', 'tokens', 'index_tour', 'index_locuteur']]"
   ]
  },
  {
   "cell_type": "code",
   "execution_count": null,
   "id": "44658f89",
   "metadata": {},
   "outputs": [],
   "source": [
    "tcof_tokens = tcof_tokens.explode('index_token')"
   ]
  },
  {
   "cell_type": "code",
   "execution_count": null,
   "id": "e4b082b5",
   "metadata": {},
   "outputs": [],
   "source": [
    "tcof_tokens = tcof_tokens[tcof_tokens['index_token'].notna()]"
   ]
  },
  {
   "cell_type": "code",
   "execution_count": null,
   "id": "292ba30c",
   "metadata": {},
   "outputs": [],
   "source": [
    "def extract_nb(tokens, index_token):\n",
    "    pattern = '^.*_(\\d*)$'\n",
    "    try : \n",
    "        match = re.match(pattern, index_token)\n",
    "    except:\n",
    "        print(index_token, type(index_token))\n",
    "    if match :\n",
    "        index = match.group(1)\n",
    "        for i, (num, forme) in enumerate(tokens):\n",
    "            if i == int(index):\n",
    "                return num\n",
    "    else:\n",
    "        print(index_token)\n",
    "        \n",
    "def extract_forme(tokens, index_token):\n",
    "    pattern = '^.*_(\\d*)$'\n",
    "    try : \n",
    "        match = re.match(pattern, index_token)\n",
    "    except:\n",
    "        print(index_token, type(index_token))\n",
    "    if match :\n",
    "        index = match.group(1)\n",
    "        for i, (num, forme) in enumerate(tokens):\n",
    "            if i == int(index):\n",
    "                return forme\n",
    "    else:\n",
    "        print(index_token)"
   ]
  },
  {
   "cell_type": "code",
   "execution_count": null,
   "id": "d81d6780",
   "metadata": {},
   "outputs": [],
   "source": [
    "tcof_tokens['forme']= tcof_tokens.apply(lambda row : extract_forme(row['tokens'], row['index_token']), axis=1)\n",
    "tcof_tokens['num_tokens'] = tcof_tokens.apply(lambda row : extract_nb(row['tokens'], row['index_token']), axis=1)"
   ]
  },
  {
   "cell_type": "code",
   "execution_count": null,
   "id": "3c16e32e",
   "metadata": {},
   "outputs": [],
   "source": [
    "tcof_tokens['MD']=tcof_tokens['forme'].apply(lambda x : 1 if x=='oui' else 0)"
   ]
  },
  {
   "cell_type": "code",
   "execution_count": null,
   "id": "97976246",
   "metadata": {},
   "outputs": [],
   "source": [
    "tcof_tokens = tcof_tokens.drop('tokens', axis=1)"
   ]
  },
  {
   "cell_type": "code",
   "execution_count": null,
   "id": "d497aea2",
   "metadata": {},
   "outputs": [],
   "source": [
    "tcof_tokens"
   ]
  },
  {
   "cell_type": "code",
   "execution_count": null,
   "id": "682e9c11",
   "metadata": {},
   "outputs": [],
   "source": []
  },
  {
   "cell_type": "code",
   "execution_count": null,
   "id": "14119232",
   "metadata": {},
   "outputs": [],
   "source": [
    "import mysql.connector as msql\n",
    "from mysql.connector import Error"
   ]
  },
  {
   "cell_type": "code",
   "execution_count": null,
   "id": "860242b1",
   "metadata": {},
   "outputs": [],
   "source": [
    "tcof_tour.columns"
   ]
  },
  {
   "cell_type": "code",
   "execution_count": null,
   "id": "851be9bd",
   "metadata": {},
   "outputs": [],
   "source": [
    "try:\n",
    "    conn = msql.connect(host='localhost',\n",
    "                        database='Test3', user='root',\n",
    "                        password='')\n",
    "    if conn.is_connected():\n",
    "        cursor = conn.cursor()\n",
    "\n",
    "        for i, row in tcof_corpus.iterrows():\n",
    "            sql =  \"INSERT INTO Corpus (id_corpus, nom, date, type) VALUES (%s, %s, %s, %s);\"\n",
    "            cursor.execute(sql, (row['index_corpus'], row['corpus'], row['date'], row['type']))\n",
    "            print(\"Record inserted into tour\")\n",
    "        conn.commit()\n",
    "        print(\"Data insertion completed.\")\n",
    "except Error as e:\n",
    "    print(\"Error while connecting to MySQL\", e) "
   ]
  },
  {
   "cell_type": "code",
   "execution_count": null,
   "id": "42c06d61",
   "metadata": {},
   "outputs": [],
   "source": [
    "try:\n",
    "    conn = msql.connect(host='localhost',\n",
    "                        database='Test3', user='root',\n",
    "                        password='')\n",
    "    if conn.is_connected():\n",
    "        cursor = conn.cursor()           \n",
    "        for i, row in tcof_enregistrement.iterrows():\n",
    "            sql = \"INSERT INTO Enregistrement (id_enregistrement, nom, situation, date, responsable, fichier_transcription, fichier_audio, id_corpus) VALUES (%s, %s, %s, %s, %s, %s, %s, %s);\"\n",
    "            cursor.execute(sql, (row['index_enregistrement'], row['sous_corpus'], row['description'], row['date_enregistrement'], row['responsable'], row['path_trs'],row['path_wav'],row['index_corpus']))\n",
    "            print(\"Record inserted into tour\")\n",
    "        conn.commit()\n",
    "        print(\"Data insertion completed.\")\n",
    "except Error as e:\n",
    "    print(\"Error while connecting to MySQL\", e) "
   ]
  },
  {
   "cell_type": "code",
   "execution_count": null,
   "id": "1de93598",
   "metadata": {},
   "outputs": [],
   "source": [
    "try:\n",
    "    conn = msql.connect(host='localhost',\n",
    "                        database='Test3', user='root',\n",
    "                        password='')\n",
    "    if conn.is_connected():\n",
    "        cursor = conn.cursor()                     \n",
    "        for i, row in tcof_locuteurs.iterrows():\n",
    "            sql = \"INSERT INTO Locuteur (id_locuteur, nom, age, etude, metier, id_enregistrement) VALUES (%s, %s, %s, %s, %s, %s)\"\n",
    "            cursor.execute(sql, (row['index_locuteur'], row['speaker_name'], row['age_speaker'], row['etude_speaker'], row['profession_speaker'], row['index_enregistrement']))\n",
    "            print(\"Record inserted into tour\")\n",
    "        conn.commit()\n",
    "        print(\"Data insertion completed.\")\n",
    "except Error as e:\n",
    "    print(\"Error while connecting to MySQL\", e) \n",
    "    "
   ]
  },
  {
   "cell_type": "code",
   "execution_count": null,
   "id": "c4a5d2ef",
   "metadata": {},
   "outputs": [],
   "source": [
    "try:\n",
    "    conn = msql.connect(host='localhost',\n",
    "                        database='Test3', user='root',\n",
    "                        password='')\n",
    "    if conn.is_connected():\n",
    "        cursor = conn.cursor()        \n",
    "        for i, row in tcof_tour.iterrows():\n",
    "            sql = \"INSERT INTO Tour (id_tour, text, debut, fin, id_locuteur, id_enregistrement) VALUES (%s, %s, %s, %s, %s, %s)\"\n",
    "            cursor.execute(sql, (row['index_tour'], row['text_clean'], row['startTime'], row['endTime'], row['index_locuteur'], row['index_enregistrement']))\n",
    "            print(\"Record inserted into tour\")\n",
    "        conn.commit()\n",
    "        print(\"Data insertion completed.\")\n",
    "except Error as e:\n",
    "    print(\"Error while connecting to MySQL\", e) "
   ]
  },
  {
   "cell_type": "code",
   "execution_count": 53,
   "id": "7dbb4769",
   "metadata": {},
   "outputs": [
    {
     "name": "stdout",
     "output_type": "stream",
     "text": [
      "Data insertion completed.\n"
     ]
    }
   ],
   "source": [
    "try:\n",
    "    conn = msql.connect(host='localhost',\n",
    "                        database='Test3', user='root',\n",
    "                        password='')\n",
    "    if conn.is_connected():\n",
    "        cursor = conn.cursor()\n",
    "        for i, row in tcof_tokens.iterrows():\n",
    "            sql = \"INSERT INTO Tokens (id_token, id_tour, id_locuteur, num_tour, forme,  md ) VALUES (%s, %s, %s, %s, %s, %s)\"\n",
    "            cursor.execute(sql, (row['index_token'], row['index_tour'], row['index_locuteur'],row['num_tokens'], row['forme'], row['MD']))          \n",
    "        \n",
    "        # Commit the changes\n",
    "        conn.commit()\n",
    "        print(\"Data insertion completed.\")\n",
    "except Error as e:\n",
    "    print(\"Error while connecting to MySQL\", e)"
   ]
  },
  {
   "cell_type": "code",
   "execution_count": 52,
   "id": "dc99f386",
   "metadata": {},
   "outputs": [
    {
     "data": {
      "text/plain": [
       "Index(['index_token', 'index_tour', 'index_locuteur', 'forme', 'num_tokens',\n",
       "       'MD'],\n",
       "      dtype='object')"
      ]
     },
     "execution_count": 52,
     "metadata": {},
     "output_type": "execute_result"
    }
   ],
   "source": [
    "tcof_tokens.columns"
   ]
  },
  {
   "cell_type": "code",
   "execution_count": null,
   "id": "dd1aaa8d",
   "metadata": {},
   "outputs": [],
   "source": []
  },
  {
   "cell_type": "code",
   "execution_count": null,
   "id": "ded688fc",
   "metadata": {},
   "outputs": [],
   "source": []
  },
  {
   "cell_type": "code",
   "execution_count": null,
   "id": "af600d87",
   "metadata": {},
   "outputs": [],
   "source": []
  },
  {
   "cell_type": "code",
   "execution_count": null,
   "id": "be5b273f",
   "metadata": {},
   "outputs": [],
   "source": []
  },
  {
   "cell_type": "code",
   "execution_count": null,
   "id": "df925c66",
   "metadata": {},
   "outputs": [],
   "source": []
  },
  {
   "cell_type": "code",
   "execution_count": null,
   "id": "5568abf9",
   "metadata": {},
   "outputs": [],
   "source": []
  },
  {
   "cell_type": "code",
   "execution_count": null,
   "id": "cfa341fc",
   "metadata": {},
   "outputs": [],
   "source": []
  },
  {
   "cell_type": "code",
   "execution_count": null,
   "id": "fa4966b3",
   "metadata": {},
   "outputs": [],
   "source": []
  },
  {
   "cell_type": "raw",
   "id": "3ce4c5e7",
   "metadata": {},
   "source": [
    "\n",
    "\n",
    "-- Insert data into Enregistrement table\n",
    "INSERT INTO Enregistrement (id_enregistrement, nom, situation, date, responsable, fichier_transcription, fichier_audio, id_tour, id_locuteur)\n",
    "VALUES ('1', 'Enregistrement 1', 'Situation 1', CURRENT_TIMESTAMP, 'Responsable 1', 'transcription1.txt', 'audio1.mp3', '1', '1');\n",
    "\n",
    "INSERT INTO Enregistrement (id_enregistrement, nom, situation, date, responsable, fichier_transcription, fichier_audio, id_tour, id_locuteur)\n",
    "VALUES ('2', 'Enregistrement 2', 'Situation 2', CURRENT_TIMESTAMP, 'Responsable 2', 'transcription2.txt', 'audio2.mp3', '2', '2');\n",
    "\n",
    "INSERT INTO Enregistrement (id_enregistrement, nom, situation, date, responsable, fichier_transcription, fichier_audio, id_tour, id_locuteur)\n",
    "VALUES ('3', 'Enregistrement 3', 'Situation 3', CURRENT_TIMESTAMP, 'Responsable 3', 'transcription3.txt', 'audio3.mp3', '3', '3');\n",
    "\n",
    "-- Insert data into Tour table\n",
    "INSERT INTO Tour (id_tour, text, debut, fin, id_locuteur, id_enregistrement)\n",
    "VALUES ('1', 'Tour 1', 1, 10, '1', '1');\n",
    "\n",
    "INSERT INTO Tour (id_tour, text, debut, fin, id_locuteur, id_enregistrement)\n",
    "VALUES ('2', 'Tour 2', 11, 20, '2', '2');\n",
    "\n",
    "INSERT INTO Tour (id_tour, text, debut, fin, id_locuteur, id_enregistrement)\n",
    "VALUES ('3', 'Tour 3', 21, 30, '3', '3');\n",
    "\n",
    "-- Insert data into Locuteur table\n",
    "INSERT INTO Locuteur (id_locuteur, nom, age, etude, metier, id_tour)\n",
    "VALUES ('1', 'Locuteur 1', 25, 'Etude 1', 'Metier 1', '1');\n",
    "\n",
    "INSERT INTO Locuteur (id_locuteur, nom, age, etude, metier, id_tour)\n",
    "VALUES ('2', 'Locuteur 2', 30, 'Etude 2', 'Metier 2', '2');\n",
    "\n",
    "INSERT INTO Locuteur (id_locuteur, nom, age, etude, metier, id_tour)\n",
    "VALUES ('3', 'Locuteur 3', 35, 'Etude 3', 'Metier 3', '3');\n",
    "\n",
    "-- Insert data into Tokens table\n",
    "INSERT INTO Tokens (id_token, forme, index_tour, md, id_locuteur, id_tour)\n",
    "VALUES ('1', 'Token 1', 1, true, '1', '1');\n",
    "\n",
    "INSERT INTO Tokens (id_token, forme, index_tour, md, id_locuteur, id_tour)\n",
    "VALUES ('2', 'Token 2', 2, false, '2', '2');\n",
    "\n",
    "INSERT INTO Tokens (id_token, forme, index_tour, md, id_locuteur, id_tour)\n",
    "VALUES ('3', 'Token 3', 3, true, '3', '3');\n"
   ]
  },
  {
   "cell_type": "code",
   "execution_count": null,
   "id": "e4a5801f",
   "metadata": {},
   "outputs": [],
   "source": []
  }
 ],
 "metadata": {
  "kernelspec": {
   "display_name": "Python 3 (ipykernel)",
   "language": "python",
   "name": "python3"
  },
  "language_info": {
   "codemirror_mode": {
    "name": "ipython",
    "version": 3
   },
   "file_extension": ".py",
   "mimetype": "text/x-python",
   "name": "python",
   "nbconvert_exporter": "python",
   "pygments_lexer": "ipython3",
   "version": "3.9.13"
  }
 },
 "nbformat": 4,
 "nbformat_minor": 5
}

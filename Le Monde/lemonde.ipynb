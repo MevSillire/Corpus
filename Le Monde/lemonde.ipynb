{
 "cells": [
  {
   "cell_type": "code",
   "execution_count": null,
   "id": "c12159d2",
   "metadata": {},
   "outputs": [],
   "source": [
    "import spacy\n",
    "import pandas as pd\n",
    "import re"
   ]
  },
  {
   "cell_type": "code",
   "execution_count": null,
   "id": "d8a4a3bb",
   "metadata": {},
   "outputs": [],
   "source": [
    "ok = pd.read_csv(r\"F:\\Corpus\\finaux\\lemondediplomatique1.csv\", sep='\\t', encoding='utf8')"
   ]
  },
  {
   "cell_type": "code",
   "execution_count": null,
   "id": "cc4f70a7",
   "metadata": {},
   "outputs": [],
   "source": [
    "ok = ok[:10]"
   ]
  },
  {
   "cell_type": "code",
   "execution_count": null,
   "id": "f35e1dd8",
   "metadata": {},
   "outputs": [],
   "source": [
    "ok['name'] = ok['name'].apply(lambda x : re.sub('^20', '', x))"
   ]
  },
  {
   "cell_type": "code",
   "execution_count": null,
   "id": "f8d6756c",
   "metadata": {},
   "outputs": [],
   "source": [
    "ok"
   ]
  },
  {
   "cell_type": "code",
   "execution_count": null,
   "id": "4001df49",
   "metadata": {},
   "outputs": [],
   "source": [
    "def generate_corpus_index(corpus_name):\n",
    "    # Convert to lowercase and keep only alphanumeric characters\n",
    "    cleaned_name = re.sub(r'[^a-zA-Z0-9]', '', corpus_name.lower())\n",
    "    # Ensure length is up to 10 characters, pad with '0' if needed\n",
    "    return cleaned_name[:10].ljust(10, '0')\n",
    "\n",
    "def generate_sub_corpus_index(corpus_index, sub_corpus_name):\n",
    "    # Convert sub-corpus name to alphanumeric and pad with '0'\n",
    "    cleaned_sub_corpus_name = re.sub(r'[^a-zA-Z0-9]', '', sub_corpus_name)[:10].ljust(10, '0')\n",
    "    return f\"{corpus_index}_{cleaned_sub_corpus_name}\"\n",
    "\n",
    "def generate_turn_index(sub_corpus_index, turn_number):\n",
    "    # The turn index is constructed by concatenating the sub-corpus index and the turn number,\n",
    "    return f\"{sub_corpus_index}_{str(turn_number)}\"\n",
    "\n",
    "def generate_speaker_index(sub_corpus_index, spk_name):\n",
    "    # Convert speaker name to alphanumeric\n",
    "    try : \n",
    "        cleaned_spk_name = re.sub(r'[^a-zA-Z0-9]', '', spk_name)\n",
    "        # Combine the corpus index and sub-corpus index, and spk name with an underscore to form the speaker index\n",
    "        speaker_index = f\"{sub_corpus_index}_{cleaned_spk_name}\"\n",
    "    except : \n",
    "        speaker_index = ''\n",
    "    # Return the generated speaker index\n",
    "    return speaker_index"
   ]
  },
  {
   "cell_type": "code",
   "execution_count": null,
   "id": "42df8eba",
   "metadata": {},
   "outputs": [],
   "source": [
    "ok"
   ]
  },
  {
   "cell_type": "code",
   "execution_count": null,
   "id": "d52000c8",
   "metadata": {},
   "outputs": [],
   "source": [
    "# Load the language model\n",
    "nlp = spacy.load('fr_core_news_sm')\n",
    "\n",
    "# Your custom function with nlp.pipes\n",
    "def blabla(nlp, texts):\n",
    "    docs = list(nlp.pipe(texts, batch_size=128)) \n",
    "    return [list(doc.sents) for doc in docs]"
   ]
  },
  {
   "cell_type": "code",
   "execution_count": null,
   "id": "1cb0899f",
   "metadata": {},
   "outputs": [],
   "source": [
    "ok['texte'] = ok['text'].fillna('')\n",
    "# Applying your custom function with nlp.pipes to get doc.sents for the 'texte' column\n",
    "ok['doc_sents'] = blabla(nlp, ok['text'])\n",
    "\n",
    "ok1 = ok.explode('doc_sents')\n",
    "ok1 = ok1.reset_index(drop=True)"
   ]
  },
  {
   "cell_type": "code",
   "execution_count": null,
   "id": "fc1bac57",
   "metadata": {},
   "outputs": [],
   "source": [
    "def create_index(df, corpus_name):\n",
    "    #vérification dans la base de donénes à faire\n",
    "    df['index_corpus']=generate_corpus_index(corpus_name)\n",
    "    df['index_sub_corpus'] = df.apply(lambda row : generate_sub_corpus_index(row['index_corpus'], row['name']), axis=1)\n",
    "    df['nb_index_enregistrement'] = df['index_sub_corpus'].ne(df['index_sub_corpus'].shift()).cumsum()\n",
    "    df['numero_tour'] = df.groupby('nb_index_enregistrement').cumcount() + 1\n",
    "    df['index_turn_index'] = df.apply(lambda row : generate_turn_index(row['index_sub_corpus'], row['numero_tour']), axis=1)\n",
    "    df['index_spk']= df.apply(lambda row : generate_sub_corpus_index(row['index_sub_corpus'], row['author']), axis=1)\n",
    "    return df"
   ]
  },
  {
   "cell_type": "code",
   "execution_count": null,
   "id": "3cfafc38",
   "metadata": {},
   "outputs": [],
   "source": [
    "ok1['texte']= ok1['doc_sents'].apply(lambda x : x.text)\n",
    "\n",
    "ok1 = ok1.fillna('')\n",
    "\n",
    "ok1 = create_index(ok1, 'LEMONDEDIPLOMATIQUE')\n",
    "\n",
    "ok1 = ok1.drop('text', axis=1)"
   ]
  },
  {
   "cell_type": "code",
   "execution_count": null,
   "id": "bab399bf",
   "metadata": {},
   "outputs": [],
   "source": [
    "ok1"
   ]
  },
  {
   "cell_type": "code",
   "execution_count": null,
   "id": "5bc6eb40",
   "metadata": {},
   "outputs": [],
   "source": [
    "def get_MD(list_):\n",
    "    tokens = list(enumerate(list_))\n",
    "    list_md = ['car','bref','comme','donc','enfin','ensuite','après','puis','puisque','soudain','mais', 'ben']\n",
    "    index_tokens = [(ind,tok) for ind, tok in tokens if tok.text.lower() in list_md]\n",
    "    return index_tokens"
   ]
  },
  {
   "cell_type": "code",
   "execution_count": null,
   "id": "3ec4b951",
   "metadata": {},
   "outputs": [],
   "source": [
    "ok1['new']=ok1['doc_sents'].apply(lambda x: get_MD(x))"
   ]
  },
  {
   "cell_type": "code",
   "execution_count": null,
   "id": "728f911e",
   "metadata": {},
   "outputs": [],
   "source": [
    "def keep_words(string):\n",
    "    res = re.sub(r'[^\\w\\s]', '', string)\n",
    "    string = string.replace(' ', '')\n",
    "    return res"
   ]
  },
  {
   "cell_type": "code",
   "execution_count": null,
   "id": "729e16eb",
   "metadata": {},
   "outputs": [],
   "source": [
    "def create_index(df):\n",
    "    #vérification dans la base de donénes à faire\n",
    "    df['index_corpus']=[keep_words(x.lower().replace(' ', '')) for x in df['journal'].tolist()]\n",
    "    df['index_enregistrement']= [keep_words(x.lower()) +'_'+ keep_words(y.lower()) for x,y in list(zip(df['journal'].tolist(), df['titre'].tolist()))]\n",
    "    df['index_locuteur']=[x.lower()+'_'+keep_words(y.lower().replace('_', '').replace('.', '')) for x,y in list(zip(df['index_enregistrement'].tolist(), df['auteur'].tolist())) ]\n",
    "    df['nb_index_enregistrement'] = df['index_enregistrement'].ne(df['index_enregistrement'].shift()).cumsum()\n",
    "    df['numero_tour'] = df.groupby('nb_index_enregistrement').cumcount() + 1\n",
    "    df['index_tour'] = [x.lower()+'_'+ str(y) for x,y in list(zip(df['index_enregistrement'].tolist(), df['numero_tour'].tolist()))]\n",
    "    return df"
   ]
  },
  {
   "cell_type": "code",
   "execution_count": null,
   "id": "9c149056",
   "metadata": {},
   "outputs": [],
   "source": [
    "ok1.columns"
   ]
  },
  {
   "cell_type": "code",
   "execution_count": null,
   "id": "4df8945d",
   "metadata": {},
   "outputs": [],
   "source": [
    "ok2 = create_index(ok1.fillna(''))"
   ]
  },
  {
   "cell_type": "code",
   "execution_count": null,
   "id": "9ae1e3c6",
   "metadata": {},
   "outputs": [],
   "source": [
    "for ind, x in enumerate(ok2['doc_sents'].tolist()[0]):\n",
    "    if x.text =='Faute':\n",
    "        print(ind, x)"
   ]
  },
  {
   "cell_type": "code",
   "execution_count": null,
   "id": "ebfcac86",
   "metadata": {},
   "outputs": [],
   "source": [
    "def tokenize(x):\n",
    "    list_md = ['car','bref','comme','donc','enfin','ensuite','après','puis','puisque','soudain','mais', 'ben']\n",
    "    index_tokens = [(ind,tok) for ind, tok in tokens if tok in list_md]\n",
    "    return index_tokens"
   ]
  },
  {
   "cell_type": "code",
   "execution_count": null,
   "id": "897eb451",
   "metadata": {},
   "outputs": [],
   "source": [
    "def create_texte(doc):\n",
    "    if isinstance(doc, str):\n",
    "        return ''\n",
    "    else:\n",
    "        return doc.text\n",
    "    "
   ]
  },
  {
   "cell_type": "code",
   "execution_count": null,
   "id": "f310e6b2",
   "metadata": {},
   "outputs": [],
   "source": [
    "def tokenize(x):\n",
    "    if isinstance(x, str):\n",
    "        tokens= list(enumerate(word_tokenize(x, language='french')))\n",
    "        list_md = ['car','bref','comme','donc','enfin','ensuite','après','puis','puisque','soudain','mais', 'ben']\n",
    "        index_tokens = [(ind,tok) for ind, tok in tokens if tok in list_md]\n",
    "        return index_tokens\n",
    "    else:\n",
    "        return []"
   ]
  },
  {
   "cell_type": "code",
   "execution_count": null,
   "id": "5e4d91ce",
   "metadata": {},
   "outputs": [],
   "source": [
    "def create_tokens_index(tokens):\n",
    "    list_md = ['ben', 'mais', 'enfin','oui']\n",
    "    index_tokens = [(ind,tok.text) for ind, tok in enumerate(tokens) if tok.text.lower() in list_md]\n",
    "    return index_tokens"
   ]
  },
  {
   "cell_type": "code",
   "execution_count": null,
   "id": "94ff74fc",
   "metadata": {},
   "outputs": [],
   "source": [
    "ok2['texte']= ok2['doc_sents'].apply(lambda x : create_texte(x))"
   ]
  },
  {
   "cell_type": "code",
   "execution_count": null,
   "id": "6976f404",
   "metadata": {},
   "outputs": [],
   "source": [
    "ok2['index_token'] = ok2['doc_sents'].apply(lambda x : create_tokens_index(x))"
   ]
  },
  {
   "cell_type": "code",
   "execution_count": null,
   "id": "eaf1c461",
   "metadata": {},
   "outputs": [],
   "source": [
    "for x in ok2['index_token'].tolist():\n",
    "    if len(x)>0:\n",
    "        pass\n",
    "    else:\n",
    "        print(x)\n",
    "        print(type(x))"
   ]
  },
  {
   "cell_type": "code",
   "execution_count": null,
   "id": "3db32820",
   "metadata": {},
   "outputs": [],
   "source": [
    "ok['texte'] = ok['texte'].fillna('')\n",
    "ok['doc_sents'] = blabla(nlp, ok['texte'])\n",
    "ok = ok.explode('doc_sents')"
   ]
  },
  {
   "cell_type": "code",
   "execution_count": null,
   "id": "70745ada",
   "metadata": {},
   "outputs": [],
   "source": [
    "def formate2db(df):\n",
    "     #create_new_index\n",
    "    df = df.reset_index(drop=True)\n",
    "    df = create_index(df.fillna(''))\n",
    "    #tokenize and add index\n",
    "    df['texte']= df['doc_sents'].apply(lambda x : create_texte(x))\n",
    "    df['index_token'] = df['doc_sents'].apply(lambda x : create_tokens_index(x))\n",
    "    \n",
    "    df['publisher']=''\n",
    "    df['type']='ecrit'\n",
    "    table_corpus = df[['index_corpus','publisher', 'journal','type']]\n",
    "    table_corpus = table_corpus.groupby('index_corpus').agg({\n",
    "    'publisher': 'first',\n",
    "    'journal':'first',\n",
    "     'type': 'first'\n",
    "    }).reset_index()\n",
    "    print('table corpus : ok')\n",
    "    \n",
    "    df['link']=''\n",
    "    df['ENR_editeur']=''\n",
    "    df['ENR_droits']=''\n",
    "    df['ENR_qualite_acoustique']=''\n",
    "    df['ENR_lieu']=''\n",
    "    table_enregistrement = df[['index_enregistrement','index_corpus', 'link','date','Type d\\'article','ENR_editeur','categorie','ENR_droits','Taille','ENR_qualite_acoustique', 'ENR_lieu']]#'path_xml',\n",
    "    table_enregistrement = table_enregistrement.groupby('index_enregistrement').agg({\n",
    "    'index_corpus': 'first',\n",
    "    'link': 'first',\n",
    "    'date': 'first',\n",
    "    'Type d\\'article' : 'first',\n",
    "    'ENR_editeur' : 'first',\n",
    "    'categorie':'first',\n",
    "    'ENR_droits': 'first',\n",
    "    'Taille': 'first',\n",
    "    'ENR_qualite_acoustique': 'first',\n",
    "    'ENR_lieu': 'first'\n",
    "    }).reset_index()\n",
    "    print('table table_enregistrement : ok')\n",
    "    \n",
    "    df['debut_tour']=''\n",
    "    df['fin_tour']=''\n",
    "    table_tour = df[['index_tour', 'index_enregistrement','index_locuteur', 'texte', 'debut_tour', 'fin_tour']]\n",
    "    table_tour = table_tour.groupby('index_tour').agg({\n",
    "    'index_enregistrement': 'first',\n",
    "    'index_locuteur': 'first',\n",
    "    'texte' : 'first',\n",
    "    'debut_tour':'first',\n",
    "    'fin_tour' : 'first'\n",
    "    }).reset_index()\n",
    "    print('table table_tour : ok')\n",
    "\n",
    "\n",
    "    table_locuteurs = df[['index_locuteur']]\n",
    "    print('table table_loc: ok')\n",
    "    \n",
    "    d = {'id_md': ['1', '2', '3', '4'], 'forme': ['ben', 'mais', 'enfin', 'oui']}\n",
    "    table_md = pd.DataFrame(d)\n",
    "    print('table table_md: ok')\n",
    "    \n",
    "    table_tour_md = df[['index_token', 'index_tour', 'doc_sents']]\n",
    "    table_tour_md = table_tour_md.explode('index_token')\n",
    "#     table_tour_md['forme']= table_tour_md.apply(lambda row : extract_forme2(row['doc_sents']), axis=1)\n",
    "#     table_tour_md['num_tour'] = table_tour_md.apply(lambda row : extract_nb2(row['doc_sents']), axis=1)\n",
    "#     table_tour_md['id_md'] = table_tour_md['forme'].apply(lambda x : x.replace('ben', '1').replace('mais', '2').replace('enfin', '3').replace('oui', '4'))\n",
    "#     table_tour_md = table_tour_md.drop('forme', axis=1)\n",
    "\n",
    "    return table_corpus, table_enregistrement, table_tour, table_locuteurs, table_tour_md, table_md"
   ]
  },
  {
   "cell_type": "code",
   "execution_count": null,
   "id": "ff6316c7",
   "metadata": {},
   "outputs": [],
   "source": [
    "ok1"
   ]
  },
  {
   "cell_type": "code",
   "execution_count": null,
   "id": "3be6640f",
   "metadata": {},
   "outputs": [],
   "source": [
    "def formate2db2(df):\n",
    "     #create_new_index\n",
    "    df['texte'] = df['text'].fillna('')\n",
    "    df['doc_sents'] = blabla(nlp, df['text'])\n",
    "    df = df.explode('doc_sents')\n",
    "    df['texte']= df['doc_sents'].apply(lambda x : x.text)\n",
    "    df = df.fillna('')\n",
    "    df = create_index(df, 'LEMONDEDIPLOMATIQUE')\n",
    "    df = df.drop('text', axis=1)\n",
    "    \n",
    "    #tokenize and add index\n",
    "    df['MD']=df['doc_sents'].apply(lambda x: get_MD(x))\n",
    "    \n",
    "    df['publisher']='ELRA'\n",
    "    df['type']='écrit'\n",
    "    df['author_cor']=''\n",
    "    df['description_cor']='Archives du journal Le Monde Diplomatique'\n",
    "    table_corpus = df[['index_corpus','publisher', 'author_cor','type', 'description_cor']]\n",
    "    table_corpus = table_corpus.groupby('index_corpus').agg({\n",
    "    'publisher': 'first',\n",
    "    'author_cor':'first',\n",
    "     'type': 'first', \n",
    "    'description_cor':'first'\n",
    "    }).reset_index()\n",
    "    print('table corpus : ok')\n",
    "\n",
    "    \n",
    "    df['link']=''\n",
    "    df['ENR_droits']='CC-BY-NC'\n",
    "    df['ENR_qualite_acoustique']=''\n",
    "    df['ENR_lieu']=''\n",
    "    df['categorie']='article de journal'\n",
    "    df['Taille']=''\n",
    "    table_enregistrement = df[['index_sub_corpus','index_corpus', 'link','date','mots_clefs','author','categorie','ENR_droits','Taille','ENR_qualite_acoustique', 'ENR_lieu']]#'path_xml',\n",
    "    table_enregistrement = table_enregistrement.groupby('index_sub_corpus').agg({\n",
    "    'index_corpus': 'first',\n",
    "    'link': 'first',\n",
    "    'date': 'first',\n",
    "    'mots_clefs' : 'first',\n",
    "    'author' : 'first',\n",
    "    'categorie':'first',\n",
    "    'ENR_droits': 'first',\n",
    "    'Taille': 'first',\n",
    "    'ENR_qualite_acoustique': 'first',\n",
    "    'ENR_lieu': 'first'\n",
    "    }).reset_index()\n",
    "    print('table table_enregistrement : ok')\n",
    "    \n",
    "#     return df, table_enregistrement, table_corpus\n",
    "    df['debut_tour']=''\n",
    "    df['fin_tour']=''\n",
    "    table_tour = df[['index_turn_index', 'index_sub_corpus', 'texte', 'debut_tour', 'fin_tour']]\n",
    "    table_tour = table_tour.groupby('index_turn_index').agg({\n",
    "    'index_sub_corpus': 'first',\n",
    "    'texte' : 'first',\n",
    "    'debut_tour':'first',\n",
    "    'fin_tour' : 'first'\n",
    "    }).reset_index()\n",
    "    print('table table_tour : ok')\n",
    "\n",
    "\n",
    "    table_locuteurs = df[['index_spk','author']]\n",
    "    table_locuteurs = table_locuteurs.groupby('index_spk').agg({\n",
    "    'author': 'first'\n",
    "    }).reset_index()\n",
    "    print('table table_loc: ok')\n",
    "    \n",
    "    table_spk_utt = df[['index_turn_index', 'index_spk']]\n",
    "    table_spk_utt = table_spk_utt.explode('index_spk')\n",
    "    print('table spk_utt: ok')\n",
    "    \n",
    "    d = {'id_md': ['1', '2', '3', '4', '5', '6', '7', '8', '9', '10', '11', '12'], 'forme': ['car','bref','comme','donc','enfin','ensuite','après','puis','puisque','soudain','mais', 'ben']}\n",
    "    table_md = pd.DataFrame(d)\n",
    "    print('table table_md: ok')\n",
    "    \n",
    "    table_tour_md = df[['index_turn_index', 'MD']]\n",
    "    table_tour_md = table_tour_md.explode('MD')\n",
    "    table_tour_md = table_tour_md.dropna(axis='rows')\n",
    "    table_tour_md['position'] = table_tour_md['MD'].apply(lambda x : x[0])\n",
    "    table_tour_md['form'] = table_tour_md['MD'].apply(lambda x : x[1])\n",
    "    table_tour_md['MD']= table_tour_md['form'].apply(lambda x : map_string_to_integer(x))\n",
    "#     table_tour_md['forme']= table_tour_md.apply(lambda row : extract_forme2(row['doc_sents']), axis=1)\n",
    "#     table_tour_md['num_tour'] = table_tour_md.apply(lambda row : extract_nb2(row['doc_sents']), axis=1)\n",
    "#     table_tour_md['id_md'] = table_tour_md['forme'].apply(lambda x : x.replace('ben', '1').replace('mais', '2').replace('enfin', '3').replace('oui', '4'))\n",
    "#     table_tour_md = table_tour_md.drop('forme', axis=1)\n",
    "\n",
    "    return table_corpus, table_enregistrement, table_tour, table_locuteurs, table_tour_md, table_spk_utt, table_md"
   ]
  },
  {
   "cell_type": "code",
   "execution_count": null,
   "id": "9fcd0727",
   "metadata": {},
   "outputs": [],
   "source": [
    "table_corpus, table_enregistrement, table_tour, table_locuteurs, table_tour_md, table_spk_utt, table_md = formate2db2(ok)"
   ]
  },
  {
   "cell_type": "code",
   "execution_count": null,
   "id": "d6936ec6",
   "metadata": {},
   "outputs": [],
   "source": [
    "table_tour_md"
   ]
  },
  {
   "cell_type": "code",
   "execution_count": 202,
   "id": "92caf19f",
   "metadata": {},
   "outputs": [],
   "source": [
    "import mysql.connector as msql\n",
    "from mysql.connector import Error"
   ]
  },
  {
   "cell_type": "code",
   "execution_count": 204,
   "id": "161d2c59",
   "metadata": {},
   "outputs": [],
   "source": [
    "def pop_corpus(table):\n",
    "    try:\n",
    "        conn = msql.connect(host='localhost',\n",
    "                            database='codim_db', user='root',\n",
    "                            password='')\n",
    "        if conn.is_connected():\n",
    "            cursor = conn.cursor()\n",
    "\n",
    "            for i, row in table.iterrows():\n",
    "                sql =  \"INSERT INTO corpus (id_corpus, publisher_corpus, author_corpus, type_corpus, description_corpus) VALUES (%s, %s, %s, %s, %s);\"\n",
    "                cursor.execute(sql, (row['index_corpus'], row['publisher'], row['author_cor'], row['type'], row['description_cor']))\n",
    "                print(\"Record inserted into tour\")\n",
    "            conn.commit()\n",
    "            print(\"Data insertion completed.\")\n",
    "    except Error as e:\n",
    "        print(\"Table Corpus : Error while connecting to MySQL\", e) \n",
    "        return False"
   ]
  },
  {
   "cell_type": "code",
   "execution_count": 205,
   "id": "5497f046",
   "metadata": {},
   "outputs": [
    {
     "name": "stdout",
     "output_type": "stream",
     "text": [
      "Record inserted into tour\n",
      "Data insertion completed.\n"
     ]
    }
   ],
   "source": [
    "pop_corpus(table_corpus)"
   ]
  },
  {
   "cell_type": "code",
   "execution_count": 207,
   "id": "2f2f17f9",
   "metadata": {},
   "outputs": [],
   "source": [
    "def pop_enregistrement(table):\n",
    "    try:\n",
    "        conn = msql.connect(host='localhost',\n",
    "                            database='codim_db', user='root',\n",
    "                            password='')\n",
    "        if conn.is_connected():\n",
    "            cursor = conn.cursor()           \n",
    "            for i, row in table.iterrows():\n",
    "                sql = \"INSERT INTO sub_corpus (id_sub_corpus, id_corpus, link_sub_corpus, date_sub_corpus, description_sub_corpus, author_sub_corpus, type_sub_corpus, `right_sub_corpus`, duration_sub_corpus, acoustic_quality_sub_corpus, place_sub_corpus) VALUES (%s, %s, %s, %s, %s, %s, %s, %s, %s, %s, %s);\"\n",
    "                cursor.execute(sql, (row['index_sub_corpus'], row['index_corpus'], row['link'], row['date'], row['mots_clefs'], row['author'],row['categorie'],row['ENR_droits'],row['Taille'],row['ENR_qualite_acoustique'],row['ENR_lieu']))\n",
    "                print(\"Record inserted into tour\")\n",
    "            conn.commit()\n",
    "            print(\"Data insertion completed.\")\n",
    "    except Error as e:\n",
    "        print(\"Table enregistrement : Error while connecting to MySQL\", e) \n",
    "        return False"
   ]
  },
  {
   "cell_type": "code",
   "execution_count": 208,
   "id": "4a4ba37a",
   "metadata": {},
   "outputs": [
    {
     "name": "stdout",
     "output_type": "stream",
     "text": [
      "Record inserted into tour\n",
      "Record inserted into tour\n",
      "Record inserted into tour\n",
      "Record inserted into tour\n",
      "Record inserted into tour\n",
      "Record inserted into tour\n",
      "Record inserted into tour\n",
      "Record inserted into tour\n",
      "Record inserted into tour\n",
      "Record inserted into tour\n",
      "Data insertion completed.\n"
     ]
    }
   ],
   "source": [
    "pop_enregistrement(table_enregistrement)"
   ]
  },
  {
   "cell_type": "code",
   "execution_count": 211,
   "id": "f45fe2e6",
   "metadata": {},
   "outputs": [],
   "source": [
    "def pop_locuteurs(table):\n",
    "    try:\n",
    "        conn = msql.connect(host='localhost',\n",
    "                            database='codim_db', user='root',\n",
    "                            password='')\n",
    "        if conn.is_connected():\n",
    "            cursor = conn.cursor()                     \n",
    "            for i, row in table.iterrows():\n",
    "                sql = \"INSERT INTO speaker (id_speaker, name_speaker, age_speaker, gender_speaker, profession_speaker, birth_place_speaker, education_speaker, french_status_speaker, notes_speaker) VALUES (%s, %s, %s, %s, %s, %s, %s, %s, %s)\"\n",
    "#                 cursor.execute(sql, (row['index_locuteur'], row['LOC_nom'], row['LOC_age'], row['LOC_sexe'], row['LOC_profession'], row['LOC_lieu_naissance'], row['LOC_etude'], row['LOC_statut_langue'], row['notes']))\n",
    "                cursor.execute(sql, (row['index_spk'], row['author'], '', '', '', '', '', '', ''))\n",
    "                print(\"Record inserted into tour\")\n",
    "            conn.commit()\n",
    "            print(\"Data insertion completed.\")\n",
    "    except Error as e:\n",
    "        print(\"Table locuteurs : Error while connecting to MySQL\", e) \n",
    "        return False"
   ]
  },
  {
   "cell_type": "code",
   "execution_count": 212,
   "id": "3efd1c74",
   "metadata": {},
   "outputs": [
    {
     "name": "stdout",
     "output_type": "stream",
     "text": [
      "Record inserted into tour\n",
      "Record inserted into tour\n",
      "Record inserted into tour\n",
      "Record inserted into tour\n",
      "Record inserted into tour\n",
      "Record inserted into tour\n",
      "Record inserted into tour\n",
      "Record inserted into tour\n",
      "Record inserted into tour\n",
      "Record inserted into tour\n",
      "Data insertion completed.\n"
     ]
    }
   ],
   "source": [
    "pop_locuteurs(table_locuteurs)"
   ]
  },
  {
   "cell_type": "code",
   "execution_count": 214,
   "id": "f0046873",
   "metadata": {},
   "outputs": [],
   "source": [
    "def pop_tour(table):\n",
    "    try:\n",
    "        conn = msql.connect(host='localhost',\n",
    "                            database='codim_db', user='root',\n",
    "                            password='')\n",
    "        if conn.is_connected():\n",
    "            cursor = conn.cursor()        \n",
    "            for i, row in table.iterrows():\n",
    "                sql = \"INSERT INTO utterance (id_utterance, id_sub_corpus, text_utterance, start_utterance, end_utterance) VALUES (%s, %s, %s, %s, %s)\"\n",
    "                cursor.execute(sql, (row['index_turn_index'], row['index_sub_corpus'], row['texte'], row['debut_tour'],row['fin_tour']))\n",
    "                #print(\"Record inserted into tour\")\n",
    "            conn.commit()\n",
    "            #print(\"Data insertion completed.\")\n",
    "    except Error as e:\n",
    "        print(\"Table Tour : Error while connecting to MySQL\", e) \n",
    "        return False"
   ]
  },
  {
   "cell_type": "code",
   "execution_count": 215,
   "id": "12bd69e3",
   "metadata": {},
   "outputs": [],
   "source": [
    "pop_tour(table_tour)"
   ]
  },
  {
   "cell_type": "code",
   "execution_count": 218,
   "id": "986b327d",
   "metadata": {},
   "outputs": [],
   "source": [
    "def pop_md(table):\n",
    "    try:\n",
    "        conn = msql.connect(host='localhost',\n",
    "                            database='codim_db', user='root',\n",
    "                            password='')\n",
    "        if conn.is_connected():\n",
    "            cursor = conn.cursor()\n",
    "            for i, row in table.iterrows():\n",
    "                sql = \"INSERT INTO dm (id_dm, form_dm) VALUES (%s, %s)\"\n",
    "                cursor.execute(sql, (row['id_md'], row['forme']))          \n",
    "\n",
    "            # Commit the changes\n",
    "            conn.commit()\n",
    "            print(\"Data insertion completed.\")\n",
    "    except Error as e:\n",
    "        print(\"Table md : Error while connecting to MySQL\", e)\n",
    "        return False"
   ]
  },
  {
   "cell_type": "code",
   "execution_count": 219,
   "id": "638ffc58",
   "metadata": {},
   "outputs": [
    {
     "name": "stdout",
     "output_type": "stream",
     "text": [
      "Data insertion completed.\n"
     ]
    }
   ],
   "source": [
    "pop_md(table_md)"
   ]
  },
  {
   "cell_type": "code",
   "execution_count": 216,
   "id": "8cb81a72",
   "metadata": {},
   "outputs": [
    {
     "data": {
      "text/html": [
       "<div>\n",
       "<style scoped>\n",
       "    .dataframe tbody tr th:only-of-type {\n",
       "        vertical-align: middle;\n",
       "    }\n",
       "\n",
       "    .dataframe tbody tr th {\n",
       "        vertical-align: top;\n",
       "    }\n",
       "\n",
       "    .dataframe thead th {\n",
       "        text-align: right;\n",
       "    }\n",
       "</style>\n",
       "<table border=\"1\" class=\"dataframe\">\n",
       "  <thead>\n",
       "    <tr style=\"text-align: right;\">\n",
       "      <th></th>\n",
       "      <th>index_turn_index</th>\n",
       "      <th>MD</th>\n",
       "      <th>position</th>\n",
       "      <th>form</th>\n",
       "    </tr>\n",
       "  </thead>\n",
       "  <tbody>\n",
       "    <tr>\n",
       "      <th>0</th>\n",
       "      <td>lemondedip_0501117960_7</td>\n",
       "      <td>3</td>\n",
       "      <td>18</td>\n",
       "      <td>comme</td>\n",
       "    </tr>\n",
       "    <tr>\n",
       "      <th>0</th>\n",
       "      <td>lemondedip_0501117960_11</td>\n",
       "      <td>2</td>\n",
       "      <td>73</td>\n",
       "      <td>bref</td>\n",
       "    </tr>\n",
       "    <tr>\n",
       "      <th>0</th>\n",
       "      <td>lemondedip_0501117960_11</td>\n",
       "      <td>3</td>\n",
       "      <td>88</td>\n",
       "      <td>comme</td>\n",
       "    </tr>\n",
       "    <tr>\n",
       "      <th>0</th>\n",
       "      <td>lemondedip_0501117960_45</td>\n",
       "      <td>11</td>\n",
       "      <td>51</td>\n",
       "      <td>mais</td>\n",
       "    </tr>\n",
       "    <tr>\n",
       "      <th>0</th>\n",
       "      <td>lemondedip_0501117960_62</td>\n",
       "      <td>11</td>\n",
       "      <td>7</td>\n",
       "      <td>mais</td>\n",
       "    </tr>\n",
       "    <tr>\n",
       "      <th>...</th>\n",
       "      <td>...</td>\n",
       "      <td>...</td>\n",
       "      <td>...</td>\n",
       "      <td>...</td>\n",
       "    </tr>\n",
       "    <tr>\n",
       "      <th>6</th>\n",
       "      <td>lemondedip_0501118030_42</td>\n",
       "      <td>4</td>\n",
       "      <td>23</td>\n",
       "      <td>donc</td>\n",
       "    </tr>\n",
       "    <tr>\n",
       "      <th>8</th>\n",
       "      <td>lemondedip_0501118080_6</td>\n",
       "      <td>7</td>\n",
       "      <td>27</td>\n",
       "      <td>après</td>\n",
       "    </tr>\n",
       "    <tr>\n",
       "      <th>8</th>\n",
       "      <td>lemondedip_0501118080_27</td>\n",
       "      <td>1</td>\n",
       "      <td>17</td>\n",
       "      <td>car</td>\n",
       "    </tr>\n",
       "    <tr>\n",
       "      <th>8</th>\n",
       "      <td>lemondedip_0501118080_41</td>\n",
       "      <td>4</td>\n",
       "      <td>9</td>\n",
       "      <td>donc</td>\n",
       "    </tr>\n",
       "    <tr>\n",
       "      <th>8</th>\n",
       "      <td>lemondedip_0501118080_74</td>\n",
       "      <td>6</td>\n",
       "      <td>13</td>\n",
       "      <td>ensuite</td>\n",
       "    </tr>\n",
       "  </tbody>\n",
       "</table>\n",
       "<p>120 rows × 4 columns</p>\n",
       "</div>"
      ],
      "text/plain": [
       "            index_turn_index  MD  position     form\n",
       "0    lemondedip_0501117960_7   3        18    comme\n",
       "0   lemondedip_0501117960_11   2        73     bref\n",
       "0   lemondedip_0501117960_11   3        88    comme\n",
       "0   lemondedip_0501117960_45  11        51     mais\n",
       "0   lemondedip_0501117960_62  11         7     mais\n",
       "..                       ...  ..       ...      ...\n",
       "6   lemondedip_0501118030_42   4        23     donc\n",
       "8    lemondedip_0501118080_6   7        27    après\n",
       "8   lemondedip_0501118080_27   1        17      car\n",
       "8   lemondedip_0501118080_41   4         9     donc\n",
       "8   lemondedip_0501118080_74   6        13  ensuite\n",
       "\n",
       "[120 rows x 4 columns]"
      ]
     },
     "execution_count": 216,
     "metadata": {},
     "output_type": "execute_result"
    }
   ],
   "source": [
    "table_tour_md"
   ]
  },
  {
   "cell_type": "code",
   "execution_count": null,
   "id": "f3b04562",
   "metadata": {},
   "outputs": [],
   "source": []
  },
  {
   "cell_type": "code",
   "execution_count": 226,
   "id": "1662f5bf",
   "metadata": {},
   "outputs": [],
   "source": [
    "def pop_tour_md(table):\n",
    "    try:\n",
    "        conn = msql.connect(host='localhost',\n",
    "                            database='codim_db', user='root',\n",
    "                            password='')\n",
    "        if conn.is_connected():\n",
    "            cursor = conn.cursor()\n",
    "            for i, row in table.iterrows():\n",
    "                sql = \"INSERT INTO dm_utterance (id_dm, id_utterance, position) VALUES (%s, %s, %s)\"\n",
    "                cursor.execute(sql, (row['MD'], row['index_turn_index'], row['position']))          \n",
    "\n",
    "            # Commit the changes\n",
    "            conn.commit()\n",
    "            print(\"Data insertion completed.\")\n",
    "    except Error as e:\n",
    "        print(\"Table tour_md : Error while connecting to MySQL\", e)\n",
    "        return False"
   ]
  },
  {
   "cell_type": "code",
   "execution_count": 236,
   "id": "3cea8ddd",
   "metadata": {},
   "outputs": [
    {
     "data": {
      "text/html": [
       "<div>\n",
       "<style scoped>\n",
       "    .dataframe tbody tr th:only-of-type {\n",
       "        vertical-align: middle;\n",
       "    }\n",
       "\n",
       "    .dataframe tbody tr th {\n",
       "        vertical-align: top;\n",
       "    }\n",
       "\n",
       "    .dataframe thead th {\n",
       "        text-align: right;\n",
       "    }\n",
       "</style>\n",
       "<table border=\"1\" class=\"dataframe\">\n",
       "  <thead>\n",
       "    <tr style=\"text-align: right;\">\n",
       "      <th></th>\n",
       "      <th>index_turn_index</th>\n",
       "      <th>MD</th>\n",
       "      <th>position</th>\n",
       "      <th>form</th>\n",
       "    </tr>\n",
       "  </thead>\n",
       "  <tbody>\n",
       "    <tr>\n",
       "      <th>0</th>\n",
       "      <td>lemondedip_0501117960_7</td>\n",
       "      <td>3</td>\n",
       "      <td>18</td>\n",
       "      <td>comme</td>\n",
       "    </tr>\n",
       "    <tr>\n",
       "      <th>0</th>\n",
       "      <td>lemondedip_0501117960_11</td>\n",
       "      <td>2</td>\n",
       "      <td>73</td>\n",
       "      <td>bref</td>\n",
       "    </tr>\n",
       "    <tr>\n",
       "      <th>0</th>\n",
       "      <td>lemondedip_0501117960_11</td>\n",
       "      <td>3</td>\n",
       "      <td>88</td>\n",
       "      <td>comme</td>\n",
       "    </tr>\n",
       "    <tr>\n",
       "      <th>0</th>\n",
       "      <td>lemondedip_0501117960_45</td>\n",
       "      <td>11</td>\n",
       "      <td>51</td>\n",
       "      <td>mais</td>\n",
       "    </tr>\n",
       "    <tr>\n",
       "      <th>0</th>\n",
       "      <td>lemondedip_0501117960_62</td>\n",
       "      <td>11</td>\n",
       "      <td>7</td>\n",
       "      <td>mais</td>\n",
       "    </tr>\n",
       "    <tr>\n",
       "      <th>...</th>\n",
       "      <td>...</td>\n",
       "      <td>...</td>\n",
       "      <td>...</td>\n",
       "      <td>...</td>\n",
       "    </tr>\n",
       "    <tr>\n",
       "      <th>6</th>\n",
       "      <td>lemondedip_0501118030_42</td>\n",
       "      <td>4</td>\n",
       "      <td>23</td>\n",
       "      <td>donc</td>\n",
       "    </tr>\n",
       "    <tr>\n",
       "      <th>8</th>\n",
       "      <td>lemondedip_0501118080_6</td>\n",
       "      <td>7</td>\n",
       "      <td>27</td>\n",
       "      <td>après</td>\n",
       "    </tr>\n",
       "    <tr>\n",
       "      <th>8</th>\n",
       "      <td>lemondedip_0501118080_27</td>\n",
       "      <td>1</td>\n",
       "      <td>17</td>\n",
       "      <td>car</td>\n",
       "    </tr>\n",
       "    <tr>\n",
       "      <th>8</th>\n",
       "      <td>lemondedip_0501118080_41</td>\n",
       "      <td>4</td>\n",
       "      <td>9</td>\n",
       "      <td>donc</td>\n",
       "    </tr>\n",
       "    <tr>\n",
       "      <th>8</th>\n",
       "      <td>lemondedip_0501118080_74</td>\n",
       "      <td>6</td>\n",
       "      <td>13</td>\n",
       "      <td>ensuite</td>\n",
       "    </tr>\n",
       "  </tbody>\n",
       "</table>\n",
       "<p>91 rows × 4 columns</p>\n",
       "</div>"
      ],
      "text/plain": [
       "            index_turn_index  MD  position     form\n",
       "0    lemondedip_0501117960_7   3        18    comme\n",
       "0   lemondedip_0501117960_11   2        73     bref\n",
       "0   lemondedip_0501117960_11   3        88    comme\n",
       "0   lemondedip_0501117960_45  11        51     mais\n",
       "0   lemondedip_0501117960_62  11         7     mais\n",
       "..                       ...  ..       ...      ...\n",
       "6   lemondedip_0501118030_42   4        23     donc\n",
       "8    lemondedip_0501118080_6   7        27    après\n",
       "8   lemondedip_0501118080_27   1        17      car\n",
       "8   lemondedip_0501118080_41   4         9     donc\n",
       "8   lemondedip_0501118080_74   6        13  ensuite\n",
       "\n",
       "[91 rows x 4 columns]"
      ]
     },
     "execution_count": 236,
     "metadata": {},
     "output_type": "execute_result"
    }
   ],
   "source": [
    "table_tour_md"
   ]
  },
  {
   "cell_type": "code",
   "execution_count": 237,
   "id": "299eafe4",
   "metadata": {},
   "outputs": [
    {
     "name": "stdout",
     "output_type": "stream",
     "text": [
      "Data insertion completed.\n"
     ]
    }
   ],
   "source": [
    "pop_tour_md(table_tour_md)"
   ]
  },
  {
   "cell_type": "code",
   "execution_count": 240,
   "id": "828d3c9b",
   "metadata": {},
   "outputs": [],
   "source": [
    "def pop_spk_utt(table):\n",
    "    try:\n",
    "        conn = msql.connect(host='localhost',\n",
    "                            database='codim_db', user='root',\n",
    "                            password='')\n",
    "        if conn.is_connected():\n",
    "            cursor = conn.cursor()\n",
    "            for i, row in table.iterrows():\n",
    "                sql = \"INSERT INTO speaker_utterance (id_speaker, id_utterance) VALUES (%s, %s)\"\n",
    "                cursor.execute(sql, (row['index_spk'], row['index_turn_index']))          \n",
    "\n",
    "            # Commit the changes\n",
    "            conn.commit()\n",
    "            print(\"Data insertion completed.\")\n",
    "    except Error as e:\n",
    "        print(\"Table tour_md : Error while connecting to MySQL\", e)\n",
    "        return False"
   ]
  },
  {
   "cell_type": "code",
   "execution_count": 241,
   "id": "a484763a",
   "metadata": {},
   "outputs": [
    {
     "name": "stdout",
     "output_type": "stream",
     "text": [
      "Data insertion completed.\n"
     ]
    }
   ],
   "source": [
    "pop_spk_utt(table_spk_utt)"
   ]
  },
  {
   "cell_type": "code",
   "execution_count": null,
   "id": "bac5ce13",
   "metadata": {},
   "outputs": [],
   "source": []
  },
  {
   "cell_type": "code",
   "execution_count": 234,
   "id": "23d80d1f",
   "metadata": {},
   "outputs": [
    {
     "data": {
      "text/plain": [
       "['6', '2', '4', '7', '1', 'Not found', '5', '3', '11', '9', '8']"
      ]
     },
     "execution_count": 234,
     "metadata": {},
     "output_type": "execute_result"
    }
   ],
   "source": [
    "list(set(table_tour_md['MD'].tolist()))"
   ]
  },
  {
   "cell_type": "code",
   "execution_count": 235,
   "id": "b6a64924",
   "metadata": {},
   "outputs": [],
   "source": [
    "table_tour_md = table_tour_md[table_tour_md.MD != 'Not found']"
   ]
  },
  {
   "cell_type": "code",
   "execution_count": null,
   "id": "20112892",
   "metadata": {},
   "outputs": [],
   "source": [
    "# table_tour_md\n",
    "table_tour_md = table_tour_md.dropna(axis='rows')"
   ]
  },
  {
   "cell_type": "code",
   "execution_count": null,
   "id": "1648868f",
   "metadata": {},
   "outputs": [],
   "source": [
    "table_tour_md['position'] = table_tour_md['MD'].apply(lambda x : x[0])\n",
    "table_tour_md['form'] = table_tour_md['MD'].apply(lambda x : x[1])"
   ]
  },
  {
   "cell_type": "code",
   "execution_count": null,
   "id": "41a89d6e",
   "metadata": {},
   "outputs": [],
   "source": [
    "def map_string_to_integer(input_string):\n",
    "    string_to_int_mapping = {\n",
    "        'car': '1',\n",
    "        'bref': '2',\n",
    "        'comme': '3',\n",
    "        'donc': '4',\n",
    "        'enfin': '5',\n",
    "        'ensuite': '6',\n",
    "        'après': '7',\n",
    "        'puis': '8',\n",
    "        'puisque': '9',\n",
    "        'soudain': '10',\n",
    "        'mais': '11',\n",
    "        'ben': '12'\n",
    "    }\n",
    "    if isinstance(input_string.text, str):\n",
    "        # Handle single string input\n",
    "        return string_to_int_mapping.get(input_string.text, \"Not found\")\n",
    "    elif isinstance(input_string, list):\n",
    "        # Handle list of strings input\n",
    "        int_list = [string_to_int_mapping.get(string.text, \"Not found\") for string in input_string]\n",
    "        return int_list\n",
    "    else:\n",
    "        return \"Invalid input\""
   ]
  },
  {
   "cell_type": "code",
   "execution_count": null,
   "id": "5b1251ff",
   "metadata": {},
   "outputs": [],
   "source": [
    "table_tour_md['MD']= table_tour_md['form'].apply(lambda x : map_string_to_integer(x))"
   ]
  },
  {
   "cell_type": "code",
   "execution_count": null,
   "id": "1fa894ea",
   "metadata": {},
   "outputs": [],
   "source": [
    "def extract_nb2(tokens):\n",
    "    ls = ['ben', 'mais', 'enfin', 'oui']\n",
    "    list_ind = []\n",
    "    for ind, x in enumerate(list_):\n",
    "        if x.text.lower() in ls:\n",
    "            list_ind.append(ind)\n",
    "    try : \n",
    "        return int(list_ind[0])\n",
    "    except:\n",
    "        return None\n",
    "        \n",
    "def extract_forme2(tokens):\n",
    "    ls = ['ben', 'mais', 'enfin', 'oui']\n",
    "    list_forme = []\n",
    "    for ind, x in enumerate(list_):\n",
    "        print(x.text)\n",
    "        if x.text.lower() in ls:\n",
    "            list_forme.append(x.text)\n",
    "    print('----')\n",
    "    try:\n",
    "        return str(list_forme[0])\n",
    "    except:\n",
    "        return None"
   ]
  },
  {
   "cell_type": "code",
   "execution_count": null,
   "id": "2a6895c8",
   "metadata": {},
   "outputs": [],
   "source": [
    "for x in ok1['MD'].tolist():\n",
    "    if len(x)>0:\n",
    "        for xx, yy in x:\n",
    "            print(xx)\n",
    "            print(yy)"
   ]
  },
  {
   "cell_type": "code",
   "execution_count": null,
   "id": "79a5e078",
   "metadata": {},
   "outputs": [],
   "source": [
    "table_corpus, table_enregistrement, table_tour, table_locuteurs, table_tour_md, table_md = formate2db(ok)"
   ]
  },
  {
   "cell_type": "code",
   "execution_count": null,
   "id": "3cc1db74",
   "metadata": {},
   "outputs": [],
   "source": [
    "table_tour_md['forme']= table_tour_md['doc_sents']"
   ]
  },
  {
   "cell_type": "code",
   "execution_count": null,
   "id": "58a018a6",
   "metadata": {},
   "outputs": [],
   "source": [
    "boolean = not table_tour_md['id_md'].is_unique"
   ]
  },
  {
   "cell_type": "code",
   "execution_count": null,
   "id": "c68d2d1b",
   "metadata": {},
   "outputs": [],
   "source": [
    "boolean"
   ]
  },
  {
   "cell_type": "code",
   "execution_count": null,
   "id": "da5565e1",
   "metadata": {},
   "outputs": [],
   "source": [
    "df = table_tour_md[table_tour_md['id_md'].notna()]"
   ]
  },
  {
   "cell_type": "code",
   "execution_count": null,
   "id": "63ce883a",
   "metadata": {},
   "outputs": [],
   "source": [
    "df = df.dropna(subset=['id_md'])"
   ]
  },
  {
   "cell_type": "code",
   "execution_count": null,
   "id": "8f5dc777",
   "metadata": {},
   "outputs": [],
   "source": [
    "ex = []\n",
    "for x in table_tour_md['forme'].tolist():\n",
    "    if x: \n",
    "        ex.append(x)"
   ]
  },
  {
   "cell_type": "code",
   "execution_count": null,
   "id": "f379ba9b",
   "metadata": {},
   "outputs": [],
   "source": [
    "table_tour_md"
   ]
  },
  {
   "cell_type": "code",
   "execution_count": null,
   "id": "e46c8f95",
   "metadata": {},
   "outputs": [],
   "source": [
    "for x in table_tour_md1['forme'].tolist():\n",
    "    if x:\n",
    "        print(x)"
   ]
  },
  {
   "cell_type": "code",
   "execution_count": null,
   "id": "a9a57fe4",
   "metadata": {},
   "outputs": [],
   "source": [
    "for x in table_tour_md['id_md'].tolist():\n",
    "    if x!= '':\n",
    "        print(x)"
   ]
  },
  {
   "cell_type": "code",
   "execution_count": null,
   "id": "b5205ba5",
   "metadata": {},
   "outputs": [],
   "source": [
    "def hihisvp(df):\n",
    "    #df = pd.read_csv(file, sep='\\t', encoding='utf8')\n",
    " \n",
    "    df['tour_md']=df['enonce'].apply(lambda x : tokenize(clean_diacritics(x)))\n",
    "    df['index_tour_md'] = df.apply(lambda x: create_token_index(x['tour_md'], x['index_tour']), axis=1)\n",
    "    \n",
    "    \n",
    "    table_tour_md = df[['tour_md', 'index_tour_md', 'index_tour']]\n",
    "    table_tour_md = table_tour_md.explode('index_tour_md')\n",
    "    table_tour_md = table_tour_md[table_tour_md['index_tour_md'].notna()]\n",
    "    table_tour_md['forme']= table_tour_md.apply(lambda row : extract_forme2(row['tour_md'], row['index_tour_md']), axis=1)\n",
    "    table_tour_md['num_tour'] = table_tour_md.apply(lambda row : extract_nb2(row['tour_md'], row['index_tour_md']), axis=1)\n",
    "    table_tour_md['id_md'] = table_tour_md['forme'].apply(lambda x : x.replace('ben', '1').replace('mais', '2').replace('enfin', '3').replace('oui', '4'))\n",
    "    table_tour_md = table_tour_md.drop('tour_md', axis=1)\n",
    "    table_tour_md = table_tour_md.drop('forme', axis=1)\n",
    "        \n",
    "    table_tour = df[['index_tour', 'index_enregistrement','index_locuteur', 'enonce', 'debut_tour', 'fin_tour']]\n",
    "    table_tour = table_tour.groupby('index_tour').agg({\n",
    "    'index_enregistrement': 'first',\n",
    "    'index_locuteur': 'first',\n",
    "    'enonce' : 'first',\n",
    "    'debut_tour':'first',\n",
    "    'fin_tour' : 'first'\n",
    "    }).reset_index()\n",
    "\n",
    "    \n",
    "    return table_md#table_corpus, table_enregistrement, table_tour, table_locuteurs, table_tour_md, table_md"
   ]
  },
  {
   "cell_type": "code",
   "execution_count": null,
   "id": "3a3015da",
   "metadata": {},
   "outputs": [],
   "source": []
  },
  {
   "cell_type": "code",
   "execution_count": null,
   "id": "ed0ef08e",
   "metadata": {},
   "outputs": [],
   "source": [
    "def blabla(nlp, string):\n",
    "    doc = nlp(string)\n",
    "    return doc.sents"
   ]
  },
  {
   "cell_type": "code",
   "execution_count": null,
   "id": "dc755b4e",
   "metadata": {},
   "outputs": [],
   "source": [
    "hihi = blabla(nlp, str(ok.iloc[:1]['texte'].tolist()))"
   ]
  },
  {
   "cell_type": "code",
   "execution_count": null,
   "id": "1a26cc2f",
   "metadata": {},
   "outputs": [],
   "source": [
    "for sent in hihi:\n",
    "    for token in sent:\n",
    "        print(token.text)\n",
    "    print(\"-----\") "
   ]
  },
  {
   "cell_type": "code",
   "execution_count": null,
   "id": "aa256976",
   "metadata": {},
   "outputs": [],
   "source": [
    "spacy.cli.download(\"fr_core_news_sm\")"
   ]
  },
  {
   "cell_type": "code",
   "execution_count": null,
   "id": "19a6e523",
   "metadata": {},
   "outputs": [],
   "source": [
    "nlp=spacy.load(\"fr_core_news_sm\")\n",
    "doc=nlp(\"D'accord pour vendredi 14h. Je ferai un lien Teams.Et pour l'autre rendez-vous concernant les cours, attendons encore un peu pour voir si Nocolas Gony nous répond. Sinon, je vous montrerai quand même. Ce qui sera fait ne sera plus à faire.Bonne journée,Bien à vous\")"
   ]
  },
  {
   "cell_type": "code",
   "execution_count": null,
   "id": "f2673fee",
   "metadata": {},
   "outputs": [],
   "source": [
    "for sent in doc.sents:\n",
    "    print(type(sent))\n",
    "    for token in sent:\n",
    "        print(token.text, token.pos_, token.dep_)\n",
    "    print(\"-----\")"
   ]
  },
  {
   "cell_type": "code",
   "execution_count": null,
   "id": "1b4ef79e",
   "metadata": {},
   "outputs": [],
   "source": []
  }
 ],
 "metadata": {
  "kernelspec": {
   "display_name": "Python 3 (ipykernel)",
   "language": "python",
   "name": "python3"
  },
  "language_info": {
   "codemirror_mode": {
    "name": "ipython",
    "version": 3
   },
   "file_extension": ".py",
   "mimetype": "text/x-python",
   "name": "python",
   "nbconvert_exporter": "python",
   "pygments_lexer": "ipython3",
   "version": "3.9.13"
  }
 },
 "nbformat": 4,
 "nbformat_minor": 5
}

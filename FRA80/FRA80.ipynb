{
 "cells": [
  {
   "cell_type": "code",
   "execution_count": null,
   "id": "a0530c98",
   "metadata": {},
   "outputs": [],
   "source": [
    "#import the required libraries\n",
    "import re\n",
    "import pandas as pd\n",
    "import os"
   ]
  },
  {
   "cell_type": "markdown",
   "id": "186b844c",
   "metadata": {},
   "source": [
    "### Extract the txt files path and name from folder"
   ]
  },
  {
   "cell_type": "code",
   "execution_count": null,
   "id": "183f3196",
   "metadata": {},
   "outputs": [],
   "source": [
    "def extract_txt_files(folder_path):\n",
    "    \"\"\"get all txt files in a folder\"\"\"\n",
    "    txt_files = []\n",
    "    names = []\n",
    "    for file in os.listdir(folder_path):\n",
    "        file_path = os.path.join(folder_path, file)\n",
    "        if file.endswith('.txt') and os.path.isfile(file_path):\n",
    "            txt_files.append(file_path)\n",
    "            pat = r'E:/Corpus/FRA80\\\\(.*)\\.utf8\\.txt'\n",
    "            mat = re.search(pat,file_path)\n",
    "            try :\n",
    "                names.append(mat.group(1))\n",
    "            except:\n",
    "                names.append(None)\n",
    "    return txt_files, names\n"
   ]
  },
  {
   "cell_type": "code",
   "execution_count": null,
   "id": "4a14f39b",
   "metadata": {},
   "outputs": [],
   "source": [
    "path = 'F:/Corpus/FRA80'\n",
    "\n",
    "txt_files, names = extract_txt_files(path)"
   ]
  },
  {
   "cell_type": "markdown",
   "id": "1496749c",
   "metadata": {},
   "source": [
    "### parse the transcription"
   ]
  },
  {
   "cell_type": "code",
   "execution_count": null,
   "id": "66ecf622",
   "metadata": {},
   "outputs": [],
   "source": [
    "def read_txt_file(txt, name):\n",
    "     print(txt)\n",
    "     with open(txt, 'r', encoding ='utf8') as file:\n",
    "        dicti = {}\n",
    "        line_counter = 0\n",
    "        temps_actuel = 'NA'\n",
    "        for line in file:\n",
    "            pat = r'\\(\\((.*)\\)\\)'\n",
    "            match = re.search(pat, line)\n",
    "            if match : \n",
    "                temps_actuel = match.group(1).replace('\\xa0',' ')\n",
    "            pat2 = r'(.*)\\t(.*)'\n",
    "            mat2 = re.search(pat2, line)\n",
    "            if mat2:\n",
    "                loc = mat2.group(1)\n",
    "                text = mat2.group(2)\n",
    "                dicti[line_counter] = {}\n",
    "                dicti[line_counter]['locuteur'] = loc\n",
    "                dicti[line_counter]['start'] = temps_actuel\n",
    "                dicti[line_counter]['text'] = text\n",
    "            else:\n",
    "                continue\n",
    "\n",
    "            line_counter += 1\n",
    "            df = dict_to_dataframe(dicti, name)\n",
    "        return df"
   ]
  },
  {
   "cell_type": "code",
   "execution_count": null,
   "id": "b9c4537d",
   "metadata": {},
   "outputs": [],
   "source": [
    "def dict_to_dataframe(data_dict, name):\n",
    "    df = pd.DataFrame.from_dict(data_dict, orient='index')\n",
    "    df = df[['locuteur', 'start', 'text']]\n",
    "    df['corpus'] = 'FR80'\n",
    "    df['enregistrement'] = name\n",
    "    return df"
   ]
  },
  {
   "cell_type": "code",
   "execution_count": null,
   "id": "85d2a524",
   "metadata": {},
   "outputs": [],
   "source": [
    "liste_df = [read_txt_file(txt, name) for txt, name in list(zip(txt_files, names))]"
   ]
  },
  {
   "cell_type": "code",
   "execution_count": null,
   "id": "e2fd6296",
   "metadata": {},
   "outputs": [],
   "source": [
    "all_ = pd.concat(liste_df)"
   ]
  },
  {
   "cell_type": "code",
   "execution_count": null,
   "id": "33fdf627",
   "metadata": {},
   "outputs": [],
   "source": [
    "all_.to_csv('E:/Corpus/FRA80/total_fra801905.csv') #store the result"
   ]
  }
 ],
 "metadata": {
  "kernelspec": {
   "display_name": "Python 3 (ipykernel)",
   "language": "python",
   "name": "python3"
  },
  "language_info": {
   "codemirror_mode": {
    "name": "ipython",
    "version": 3
   },
   "file_extension": ".py",
   "mimetype": "text/x-python",
   "name": "python",
   "nbconvert_exporter": "python",
   "pygments_lexer": "ipython3",
   "version": "3.9.13"
  }
 },
 "nbformat": 4,
 "nbformat_minor": 5
}

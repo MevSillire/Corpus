{
 "cells": [
  {
   "cell_type": "code",
   "execution_count": 29,
   "id": "496556b3",
   "metadata": {},
   "outputs": [],
   "source": [
    "#import \n",
    "from bs4 import BeautifulSoup\n",
    "import pandas as pd\n",
    "import os\n",
    "import chardet\n",
    "import re"
   ]
  },
  {
   "cell_type": "code",
   "execution_count": 1,
   "id": "02b3bb1c",
   "metadata": {},
   "outputs": [],
   "source": [
    "def get_all_files(path):\n",
    "    files = []\n",
    "    for file in os.listdir(path):\n",
    "        if file.endswith('.xml'):\n",
    "            files.append(file)\n",
    "    return files"
   ]
  },
  {
   "cell_type": "code",
   "execution_count": 4,
   "id": "99aca0c2",
   "metadata": {},
   "outputs": [],
   "source": [
    "def extract_data(file):\n",
    "    soup =detect_encoding(file)\n",
    "    auteur = soup.find('sourceDesc').find('author').get_text()\n",
    "    titre = soup.find('sourceDesc').find('title').get_text\n",
    "    publisher = soup.find('distributor').get_text()\n",
    "    date = soup.find('sourceDesc').find('date').get_text()\n",
    "    categorie = soup.find('textClass').find('keywords', attr={'scheme':'genre'}).get_text()\n",
    "    abstract = soup.find('div', attr={'type':'abstract'}).get_text()\n",
    "    body = soup.find('body')\n",
    "    text = ' '.join([p.get_text() for p in body.find_all('p')])\n",
    "    return auteur, titre, publisher, date, categorie, abstract, text"
   ]
  },
  {
   "cell_type": "code",
   "execution_count": 5,
   "id": "2a493c65",
   "metadata": {},
   "outputs": [],
   "source": [
    "def extract_data2(file):\n",
    "    soup = detect_encoding(file)\n",
    "    try : \n",
    "        auteur = soup.find('sourceDesc').find('author').get_text().strip()\n",
    "    except : \n",
    "        auteur = ''\n",
    "    try : \n",
    "        titre = soup.find('sourceDesc').find('title').get_text().strip()\n",
    "    except : \n",
    "        titre = ''\n",
    "    try : \n",
    "        publisher = soup.find('publicationStmt').find('publisher').get_text().replace('\\n', ' ').strip()\n",
    "    except : \n",
    "        publisher = ''\n",
    "    try : \n",
    "        date = soup.find('sourceDesc').find('date').get_text().strip()\n",
    "    except : \n",
    "        date = ''\n",
    "    try : \n",
    "        categorie = soup.find('textClass').find('keywords', scheme='genre').get_text().strip()\n",
    "    except : \n",
    "        categorie = ''\n",
    "    try : \n",
    "        abstract = soup.find('div', type='abstract').get_text().replace('\\n', ' ').strip()\n",
    "    except : \n",
    "        abstract = ''\n",
    "    body = soup.find('body')\n",
    "    try : \n",
    "        text = ' '.join([p.get_text().strip() for p in body.find_all('p')])\n",
    "        text = clean(text)\n",
    "    except : \n",
    "        text = ''\n",
    "    return auteur, titre, publisher, date, categorie, abstract, text\n"
   ]
  },
  {
   "cell_type": "code",
   "execution_count": 6,
   "id": "4b8230b9",
   "metadata": {},
   "outputs": [],
   "source": [
    "def detect_encoding(file):\n",
    "    with open(file, 'rb') as f:\n",
    "        result = chardet.detect(f.read())\n",
    "        encoding = result['encoding'] \n",
    "    # Open the file with the detected encoding\n",
    "    with open(file, 'r', encoding=encoding) as f:\n",
    "        soup = BeautifulSoup(f, \"lxml-xml\")\n",
    "    return soup"
   ]
  },
  {
   "cell_type": "code",
   "execution_count": 36,
   "id": "d9878e23",
   "metadata": {},
   "outputs": [],
   "source": [
    "def clean(text):\n",
    "    text = text.replace('\\xa0',' ')\n",
    "    text = text.replace('\\n                ','')\n",
    "    text = text.replace('        ', ' ')\n",
    "    text = text.replace('     ', ' ')\n",
    "    text = text.replace('    ', ' ')\n",
    "    text = re.sub('\\[\\d*\\]', '', text)\n",
    "    text = text.replace('\\xad', '').replace('�', '')\n",
    "    text = text.replace('\\\"', '')\n",
    "    text = text.replace('[?]', '').replace('\\n','').replace('\\t','')\n",
    "    return text"
   ]
  },
  {
   "cell_type": "code",
   "execution_count": 3,
   "id": "d47120c0",
   "metadata": {},
   "outputs": [],
   "source": [
    "#extract all files from the folder\n",
    "path = r\"F:\\Corpus\\Corpus Scientext Fr-1.0 Licence CC\"\n",
    "all_files = get_all_files(path)"
   ]
  },
  {
   "cell_type": "code",
   "execution_count": 38,
   "id": "266c716c",
   "metadata": {},
   "outputs": [],
   "source": [
    "auteurs = []\n",
    "titres = []\n",
    "publishers = []\n",
    "dates = []\n",
    "categories = []\n",
    "abstracts = []\n",
    "texts = []\n",
    "#extract all data\n",
    "for x in all_files:\n",
    "    auteur, titre, publisher, date, categorie, abstract, text = extract_data2(\"F:\\\\Corpus\\\\Corpus Scientext Fr-1.0 Licence CC\\\\\"+x)\n",
    "    auteurs.append(auteur)\n",
    "    titres.append(titre)\n",
    "    publishers.append(publisher)\n",
    "    dates.append(date)\n",
    "    categories.append(categorie)\n",
    "    abstracts.append(abstract)\n",
    "    text = clean(text)\n",
    "    texts.append(text)"
   ]
  },
  {
   "cell_type": "code",
   "execution_count": 39,
   "id": "dfe5eff9",
   "metadata": {},
   "outputs": [],
   "source": [
    "#store it in a df\n",
    "df = pd.DataFrame(list(zip(auteurs, titres, publishers, dates, categories, abstracts, texts)),\n",
    "              columns=['auteur', 'titre', 'publisher', 'date', 'categorie', 'abstract', 'text'])"
   ]
  },
  {
   "cell_type": "code",
   "execution_count": 40,
   "id": "5347871e",
   "metadata": {},
   "outputs": [],
   "source": [
    "#create 2 df \n",
    "df3 = df[['text']]\n",
    "df2 = df[['titre','auteur','text']]"
   ]
  },
  {
   "cell_type": "code",
   "execution_count": 41,
   "id": "0f0ffbf0",
   "metadata": {},
   "outputs": [],
   "source": [
    "#store them in folder \n",
    "df3.to_csv(r\"F:\\Corpus\\finaux\\Karo\\scientext.tsv\", sep='\\t', encoding='utf8', index=False)\n",
    "df2.to_csv(r\"F:\\Corpus\\finaux\\Karo\\scientext_3col.tsv\", sep='\\t', encoding='utf8', index=False)"
   ]
  }
 ],
 "metadata": {
  "kernelspec": {
   "display_name": "Python 3 (ipykernel)",
   "language": "python",
   "name": "python3"
  },
  "language_info": {
   "codemirror_mode": {
    "name": "ipython",
    "version": 3
   },
   "file_extension": ".py",
   "mimetype": "text/x-python",
   "name": "python",
   "nbconvert_exporter": "python",
   "pygments_lexer": "ipython3",
   "version": "3.9.13"
  }
 },
 "nbformat": 4,
 "nbformat_minor": 5
}
